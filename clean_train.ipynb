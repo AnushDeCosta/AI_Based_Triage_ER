{
 "cells": [
  {
   "cell_type": "markdown",
   "id": "4dda3177",
   "metadata": {},
   "source": [
    "# Cleaning and EDA\n"
   ]
  },
  {
   "cell_type": "code",
   "execution_count": 1,
   "id": "b02c757a",
   "metadata": {},
   "outputs": [],
   "source": [
    "#import required libraries\n",
    "\n",
    "import pandas as pd\n",
    "import seaborn as sns\n",
    "import matplotlib.pyplot as plt\n",
    "import matplotlib.patches as mpatches\n",
    "import numpy as np\n"
   ]
  },
  {
   "cell_type": "code",
   "execution_count": 2,
   "id": "2f6517df",
   "metadata": {},
   "outputs": [
    {
     "data": {
      "text/html": [
       "<div>\n",
       "<style scoped>\n",
       "    .dataframe tbody tr th:only-of-type {\n",
       "        vertical-align: middle;\n",
       "    }\n",
       "\n",
       "    .dataframe tbody tr th {\n",
       "        vertical-align: top;\n",
       "    }\n",
       "\n",
       "    .dataframe thead th {\n",
       "        text-align: right;\n",
       "    }\n",
       "</style>\n",
       "<table border=\"1\" class=\"dataframe\">\n",
       "  <thead>\n",
       "    <tr style=\"text-align: right;\">\n",
       "      <th></th>\n",
       "      <th>Group</th>\n",
       "      <th>Sex</th>\n",
       "      <th>Age</th>\n",
       "      <th>Patients number per hour</th>\n",
       "      <th>Arrival mode</th>\n",
       "      <th>Injury</th>\n",
       "      <th>Chief_complain</th>\n",
       "      <th>Mental</th>\n",
       "      <th>Pain</th>\n",
       "      <th>NRS_pain</th>\n",
       "      <th>...</th>\n",
       "      <th>BT</th>\n",
       "      <th>Saturation</th>\n",
       "      <th>KTAS_RN</th>\n",
       "      <th>Diagnosis in ED</th>\n",
       "      <th>Disposition</th>\n",
       "      <th>KTAS_expert</th>\n",
       "      <th>Error_group</th>\n",
       "      <th>Length of stay_min</th>\n",
       "      <th>KTAS duration_min</th>\n",
       "      <th>mistriage</th>\n",
       "    </tr>\n",
       "  </thead>\n",
       "  <tbody>\n",
       "    <tr>\n",
       "      <th>0</th>\n",
       "      <td>2</td>\n",
       "      <td>2</td>\n",
       "      <td>71</td>\n",
       "      <td>3</td>\n",
       "      <td>3</td>\n",
       "      <td>2</td>\n",
       "      <td>right ocular pain</td>\n",
       "      <td>1</td>\n",
       "      <td>1</td>\n",
       "      <td>2</td>\n",
       "      <td>...</td>\n",
       "      <td>36.6</td>\n",
       "      <td>100</td>\n",
       "      <td>2</td>\n",
       "      <td>Corneal abrasion</td>\n",
       "      <td>1</td>\n",
       "      <td>4</td>\n",
       "      <td>2</td>\n",
       "      <td>86</td>\n",
       "      <td>5,00</td>\n",
       "      <td>1</td>\n",
       "    </tr>\n",
       "    <tr>\n",
       "      <th>1</th>\n",
       "      <td>1</td>\n",
       "      <td>1</td>\n",
       "      <td>56</td>\n",
       "      <td>12</td>\n",
       "      <td>3</td>\n",
       "      <td>2</td>\n",
       "      <td>right forearm burn</td>\n",
       "      <td>1</td>\n",
       "      <td>1</td>\n",
       "      <td>2</td>\n",
       "      <td>...</td>\n",
       "      <td>36.5</td>\n",
       "      <td>NaN</td>\n",
       "      <td>4</td>\n",
       "      <td>Burn of hand, firts degree dorsum</td>\n",
       "      <td>1</td>\n",
       "      <td>5</td>\n",
       "      <td>4</td>\n",
       "      <td>64</td>\n",
       "      <td>3,95</td>\n",
       "      <td>1</td>\n",
       "    </tr>\n",
       "    <tr>\n",
       "      <th>2</th>\n",
       "      <td>2</td>\n",
       "      <td>1</td>\n",
       "      <td>68</td>\n",
       "      <td>8</td>\n",
       "      <td>2</td>\n",
       "      <td>2</td>\n",
       "      <td>arm pain, Lt</td>\n",
       "      <td>1</td>\n",
       "      <td>1</td>\n",
       "      <td>2</td>\n",
       "      <td>...</td>\n",
       "      <td>36.6</td>\n",
       "      <td>98</td>\n",
       "      <td>4</td>\n",
       "      <td>Fracture of surgical neck of humerus, closed</td>\n",
       "      <td>2</td>\n",
       "      <td>5</td>\n",
       "      <td>4</td>\n",
       "      <td>862</td>\n",
       "      <td>1,00</td>\n",
       "      <td>1</td>\n",
       "    </tr>\n",
       "    <tr>\n",
       "      <th>3</th>\n",
       "      <td>1</td>\n",
       "      <td>2</td>\n",
       "      <td>71</td>\n",
       "      <td>8</td>\n",
       "      <td>1</td>\n",
       "      <td>1</td>\n",
       "      <td>ascites tapping</td>\n",
       "      <td>1</td>\n",
       "      <td>1</td>\n",
       "      <td>3</td>\n",
       "      <td>...</td>\n",
       "      <td>36.5</td>\n",
       "      <td>NaN</td>\n",
       "      <td>4</td>\n",
       "      <td>Alcoholic liver cirrhosis with ascites</td>\n",
       "      <td>1</td>\n",
       "      <td>5</td>\n",
       "      <td>6</td>\n",
       "      <td>108</td>\n",
       "      <td>9,83</td>\n",
       "      <td>1</td>\n",
       "    </tr>\n",
       "    <tr>\n",
       "      <th>4</th>\n",
       "      <td>1</td>\n",
       "      <td>2</td>\n",
       "      <td>58</td>\n",
       "      <td>4</td>\n",
       "      <td>3</td>\n",
       "      <td>1</td>\n",
       "      <td>distension, abd</td>\n",
       "      <td>1</td>\n",
       "      <td>1</td>\n",
       "      <td>3</td>\n",
       "      <td>...</td>\n",
       "      <td>36.5</td>\n",
       "      <td>NaN</td>\n",
       "      <td>4</td>\n",
       "      <td>Ascites</td>\n",
       "      <td>1</td>\n",
       "      <td>5</td>\n",
       "      <td>8</td>\n",
       "      <td>109</td>\n",
       "      <td>6,60</td>\n",
       "      <td>1</td>\n",
       "    </tr>\n",
       "  </tbody>\n",
       "</table>\n",
       "<p>5 rows × 24 columns</p>\n",
       "</div>"
      ],
      "text/plain": [
       "   Group  Sex  Age  Patients number per hour  Arrival mode  Injury  \\\n",
       "0      2    2   71                         3             3       2   \n",
       "1      1    1   56                        12             3       2   \n",
       "2      2    1   68                         8             2       2   \n",
       "3      1    2   71                         8             1       1   \n",
       "4      1    2   58                         4             3       1   \n",
       "\n",
       "       Chief_complain  Mental  Pain NRS_pain  ...    BT Saturation KTAS_RN  \\\n",
       "0   right ocular pain       1     1        2  ...  36.6        100       2   \n",
       "1  right forearm burn       1     1        2  ...  36.5        NaN       4   \n",
       "2        arm pain, Lt       1     1        2  ...  36.6         98       4   \n",
       "3     ascites tapping       1     1        3  ...  36.5        NaN       4   \n",
       "4     distension, abd       1     1        3  ...  36.5        NaN       4   \n",
       "\n",
       "                                Diagnosis in ED Disposition KTAS_expert  \\\n",
       "0                              Corneal abrasion           1           4   \n",
       "1             Burn of hand, firts degree dorsum           1           5   \n",
       "2  Fracture of surgical neck of humerus, closed           2           5   \n",
       "3        Alcoholic liver cirrhosis with ascites           1           5   \n",
       "4                                       Ascites           1           5   \n",
       "\n",
       "   Error_group Length of stay_min  KTAS duration_min  mistriage  \n",
       "0            2                 86               5,00          1  \n",
       "1            4                 64               3,95          1  \n",
       "2            4                862               1,00          1  \n",
       "3            6                108               9,83          1  \n",
       "4            8                109               6,60          1  \n",
       "\n",
       "[5 rows x 24 columns]"
      ]
     },
     "execution_count": 2,
     "metadata": {},
     "output_type": "execute_result"
    }
   ],
   "source": [
    "# Read data\n",
    "df = pd.read_csv(\"data.csv\", sep=\";\",encoding='ISO-8859-1', doublequote=False, skipinitialspace=True)\n",
    "\n",
    "# Display the first few rows of the DataFrame\n",
    "df.head()"
   ]
  },
  {
   "cell_type": "code",
   "execution_count": 3,
   "id": "c3916413",
   "metadata": {},
   "outputs": [
    {
     "data": {
      "text/plain": [
       "(1267, 24)"
      ]
     },
     "execution_count": 3,
     "metadata": {},
     "output_type": "execute_result"
    }
   ],
   "source": [
    "df.shape"
   ]
  },
  {
   "cell_type": "code",
   "execution_count": 4,
   "id": "a3485bf6",
   "metadata": {},
   "outputs": [
    {
     "data": {
      "text/plain": [
       "Index(['Group', 'Sex', 'Age', 'Patients number per hour', 'Arrival mode',\n",
       "       'Injury', 'Chief_complain', 'Mental', 'Pain', 'NRS_pain', 'SBP', 'DBP',\n",
       "       'HR', 'RR', 'BT', 'Saturation', 'KTAS_RN', 'Diagnosis in ED',\n",
       "       'Disposition', 'KTAS_expert', 'Error_group', 'Length of stay_min',\n",
       "       'KTAS duration_min', 'mistriage'],\n",
       "      dtype='object')"
      ]
     },
     "execution_count": 4,
     "metadata": {},
     "output_type": "execute_result"
    }
   ],
   "source": [
    "df.columns"
   ]
  },
  {
   "cell_type": "markdown",
   "id": "0f1d2855",
   "metadata": {},
   "source": [
    "# Technical information about columns\n",
    "\n",
    "#### Type of ED : Group [1 = Local ED 3th Degree, 2 = Regional ED 4tg Degree]\n",
    "#### Reason Visit : Injury [1 = No, 2= Yes]\n",
    "#### Gender : Sex [1 = Female, 2 = Male]\n",
    "#### Pain : Pain [1 = Yes, 0 = No]\n",
    "#### Mental : Mental [1 = Alert, 2 = Verbal Response, 3 = Pain Response, 4 = Unresponsive]\n",
    "#### Mode of Arrival : Arrival Mode [1 = Walking, 2 = Public Ambulance, 3 = Private Vehicle, 4 = Private Ambulance, 5,6,7 = Other]\n",
    "#### Disposition : Disposition [1 = Discharge, 2 = Admission to ward, 3 = Admission to ICU, 4 = AMA Discharge, 5 = Transfer, 6 = Death, 7 = Surgery]\n",
    "#### KTAS : KTAS... [1,2,3 = Emergency, 4,5 = Non-Emergency]-Inetrnational ranking triage \n",
    "#### RR : Respiratory rate\n",
    "#### HR :  Heart rate\n",
    "#### SBP : Systolic blood pressure\n",
    "#### DBP : Diastolic blood pressure\n",
    "#### BT : Body Tempature\n",
    "#### Length of stay_min : Time (minutes) patient needs to wait to be visited by physician\n",
    "#### KTAS_expert : ER physician evaluate ranking as a expert\n",
    "#### NRS_Pain : Numeric scale of pain that nurse will assess"
   ]
  },
  {
   "cell_type": "code",
   "execution_count": 5,
   "id": "55c77a18",
   "metadata": {},
   "outputs": [
    {
     "name": "stdout",
     "output_type": "stream",
     "text": [
      "<class 'pandas.core.frame.DataFrame'>\n",
      "RangeIndex: 1267 entries, 0 to 1266\n",
      "Data columns (total 24 columns):\n",
      " #   Column                    Non-Null Count  Dtype \n",
      "---  ------                    --------------  ----- \n",
      " 0   Group                     1267 non-null   int64 \n",
      " 1   Sex                       1267 non-null   int64 \n",
      " 2   Age                       1267 non-null   int64 \n",
      " 3   Patients number per hour  1267 non-null   int64 \n",
      " 4   Arrival mode              1267 non-null   int64 \n",
      " 5   Injury                    1267 non-null   int64 \n",
      " 6   Chief_complain            1267 non-null   object\n",
      " 7   Mental                    1267 non-null   int64 \n",
      " 8   Pain                      1267 non-null   int64 \n",
      " 9   NRS_pain                  1267 non-null   object\n",
      " 10  SBP                       1267 non-null   object\n",
      " 11  DBP                       1267 non-null   object\n",
      " 12  HR                        1267 non-null   object\n",
      " 13  RR                        1267 non-null   object\n",
      " 14  BT                        1267 non-null   object\n",
      " 15  Saturation                579 non-null    object\n",
      " 16  KTAS_RN                   1267 non-null   int64 \n",
      " 17  Diagnosis in ED           1265 non-null   object\n",
      " 18  Disposition               1267 non-null   int64 \n",
      " 19  KTAS_expert               1267 non-null   int64 \n",
      " 20  Error_group               1267 non-null   int64 \n",
      " 21  Length of stay_min        1267 non-null   int64 \n",
      " 22  KTAS duration_min         1267 non-null   object\n",
      " 23  mistriage                 1267 non-null   int64 \n",
      "dtypes: int64(14), object(10)\n",
      "memory usage: 237.7+ KB\n"
     ]
    }
   ],
   "source": [
    "df.info()"
   ]
  },
  {
   "cell_type": "code",
   "execution_count": 6,
   "id": "17fdc962",
   "metadata": {},
   "outputs": [
    {
     "name": "stdout",
     "output_type": "stream",
     "text": [
      "Group                         int64\n",
      "Sex                           int64\n",
      "Age                           int64\n",
      "Patients number per hour      int64\n",
      "Arrival mode                  int64\n",
      "Injury                        int64\n",
      "Chief_complain               object\n",
      "Mental                        int64\n",
      "Pain                          int64\n",
      "NRS_pain                     object\n",
      "SBP                         float64\n",
      "DBP                         float64\n",
      "HR                          float64\n",
      "RR                          float64\n",
      "BT                          float64\n",
      "Saturation                  float64\n",
      "KTAS_RN                       int64\n",
      "Diagnosis in ED              object\n",
      "Disposition                   int64\n",
      "KTAS_expert                   int64\n",
      "Error_group                   int64\n",
      "Length of stay_min            int64\n",
      "KTAS duration_min            object\n",
      "mistriage                     int64\n",
      "dtype: object\n"
     ]
    }
   ],
   "source": [
    "import numpy as np\n",
    "\n",
    "# List of columns to convert\n",
    "cols_to_convert = ['SBP', 'DBP', 'HR', 'RR', 'BT', 'Saturation']\n",
    "\n",
    "# Replace '??' with NaN and convert to float\n",
    "for col in cols_to_convert:\n",
    "    df[col] = df[col].replace('??', np.nan).astype(float)\n",
    "\n",
    "# Now check the data types\n",
    "print(df.dtypes)\n"
   ]
  },
  {
   "cell_type": "code",
   "execution_count": 7,
   "id": "0f5af526",
   "metadata": {},
   "outputs": [
    {
     "name": "stdout",
     "output_type": "stream",
     "text": [
      "                 n_miss  ratio\n",
      "Saturation          697  55.01\n",
      "NRS_pain            556  43.88\n",
      "DBP                  29   2.29\n",
      "SBP                  25   1.97\n",
      "RR                   22   1.74\n",
      "HR                   20   1.58\n",
      "BT                   18   1.42\n",
      "Diagnosis in ED       2   0.16\n"
     ]
    },
    {
     "data": {
      "text/plain": [
       "['NRS_pain', 'SBP', 'DBP', 'HR', 'RR', 'BT', 'Saturation', 'Diagnosis in ED']"
      ]
     },
     "execution_count": 7,
     "metadata": {},
     "output_type": "execute_result"
    }
   ],
   "source": [
    "def missing_values_table(dataframe):\n",
    "    variables_with_na = [col for col in dataframe.columns if dataframe[col].isnull().sum() > 0]\n",
    "    n_miss = dataframe[variables_with_na].isnull().sum().sort_values(ascending=False)\n",
    "    ratio = (dataframe[variables_with_na].isnull().sum() / dataframe.shape[0] * 100).sort_values(ascending=False)\n",
    "    missing_df = pd.concat([n_miss, np.round(ratio, 2)], axis=1, keys=['n_miss', 'ratio'])\n",
    "    print(missing_df)\n",
    "    return variables_with_na\n",
    "\n",
    "df['NRS_pain'] = df[[\"NRS_pain\"]].replace(\"#BOÞ!\",np.NaN)\n",
    "\n",
    "\n",
    "\n",
    "missing_values_table(df)"
   ]
  },
  {
   "cell_type": "code",
   "execution_count": 8,
   "id": "45366807",
   "metadata": {},
   "outputs": [
    {
     "name": "stdout",
     "output_type": "stream",
     "text": [
      "36.5\n"
     ]
    }
   ],
   "source": [
    "#filling Nan values with median\n",
    "print(df['BT'].median())\n",
    "df['BT'] = df['BT'].fillna(36.5)"
   ]
  },
  {
   "cell_type": "code",
   "execution_count": 9,
   "id": "9948e0b1",
   "metadata": {},
   "outputs": [
    {
     "name": "stdout",
     "output_type": "stream",
     "text": [
      "20.0\n"
     ]
    }
   ],
   "source": [
    "#filling Nan values with median\n",
    "print(df['RR'].median())\n",
    "df['RR'] = df['RR'].fillna(36.5)"
   ]
  },
  {
   "cell_type": "code",
   "execution_count": 10,
   "id": "8fa715ff",
   "metadata": {},
   "outputs": [
    {
     "name": "stdout",
     "output_type": "stream",
     "text": [
      "82.0\n"
     ]
    }
   ],
   "source": [
    "#filling Nan values with median\n",
    "print(df['HR'].median())\n",
    "df['HR'] = df['HR'].fillna(36.5)"
   ]
  },
  {
   "cell_type": "code",
   "execution_count": 11,
   "id": "dd45e270",
   "metadata": {},
   "outputs": [
    {
     "name": "stdout",
     "output_type": "stream",
     "text": [
      "36.5\n"
     ]
    }
   ],
   "source": [
    "#filling Nan values with median\n",
    "print(df['BT'].median())\n",
    "df['BT'] = df['BT'].fillna(36.5)"
   ]
  },
  {
   "cell_type": "code",
   "execution_count": 12,
   "id": "b33168da",
   "metadata": {},
   "outputs": [
    {
     "data": {
      "text/html": [
       "<div>\n",
       "<style scoped>\n",
       "    .dataframe tbody tr th:only-of-type {\n",
       "        vertical-align: middle;\n",
       "    }\n",
       "\n",
       "    .dataframe tbody tr th {\n",
       "        vertical-align: top;\n",
       "    }\n",
       "\n",
       "    .dataframe thead th {\n",
       "        text-align: right;\n",
       "    }\n",
       "</style>\n",
       "<table border=\"1\" class=\"dataframe\">\n",
       "  <thead>\n",
       "    <tr style=\"text-align: right;\">\n",
       "      <th></th>\n",
       "      <th>Sex</th>\n",
       "      <th>Age</th>\n",
       "      <th>Patients number per hour</th>\n",
       "      <th>Arrival mode</th>\n",
       "      <th>Injury</th>\n",
       "      <th>Chief_complain</th>\n",
       "      <th>Mental</th>\n",
       "      <th>Pain</th>\n",
       "      <th>NRS_pain</th>\n",
       "      <th>SBP</th>\n",
       "      <th>...</th>\n",
       "      <th>BT</th>\n",
       "      <th>Saturation</th>\n",
       "      <th>KTAS_RN</th>\n",
       "      <th>Diagnosis in ED</th>\n",
       "      <th>Disposition</th>\n",
       "      <th>KTAS_expert</th>\n",
       "      <th>Error_group</th>\n",
       "      <th>Length of stay_min</th>\n",
       "      <th>KTAS duration_min</th>\n",
       "      <th>mistriage</th>\n",
       "    </tr>\n",
       "    <tr>\n",
       "      <th>Group</th>\n",
       "      <th></th>\n",
       "      <th></th>\n",
       "      <th></th>\n",
       "      <th></th>\n",
       "      <th></th>\n",
       "      <th></th>\n",
       "      <th></th>\n",
       "      <th></th>\n",
       "      <th></th>\n",
       "      <th></th>\n",
       "      <th></th>\n",
       "      <th></th>\n",
       "      <th></th>\n",
       "      <th></th>\n",
       "      <th></th>\n",
       "      <th></th>\n",
       "      <th></th>\n",
       "      <th></th>\n",
       "      <th></th>\n",
       "      <th></th>\n",
       "      <th></th>\n",
       "    </tr>\n",
       "  </thead>\n",
       "  <tbody>\n",
       "    <tr>\n",
       "      <th>1</th>\n",
       "      <td>688</td>\n",
       "      <td>688</td>\n",
       "      <td>688</td>\n",
       "      <td>688</td>\n",
       "      <td>688</td>\n",
       "      <td>688</td>\n",
       "      <td>688</td>\n",
       "      <td>688</td>\n",
       "      <td>370</td>\n",
       "      <td>670</td>\n",
       "      <td>...</td>\n",
       "      <td>688</td>\n",
       "      <td>0</td>\n",
       "      <td>688</td>\n",
       "      <td>688</td>\n",
       "      <td>688</td>\n",
       "      <td>688</td>\n",
       "      <td>688</td>\n",
       "      <td>688</td>\n",
       "      <td>688</td>\n",
       "      <td>688</td>\n",
       "    </tr>\n",
       "    <tr>\n",
       "      <th>2</th>\n",
       "      <td>579</td>\n",
       "      <td>579</td>\n",
       "      <td>579</td>\n",
       "      <td>579</td>\n",
       "      <td>579</td>\n",
       "      <td>579</td>\n",
       "      <td>579</td>\n",
       "      <td>579</td>\n",
       "      <td>341</td>\n",
       "      <td>572</td>\n",
       "      <td>...</td>\n",
       "      <td>579</td>\n",
       "      <td>570</td>\n",
       "      <td>579</td>\n",
       "      <td>577</td>\n",
       "      <td>579</td>\n",
       "      <td>579</td>\n",
       "      <td>579</td>\n",
       "      <td>579</td>\n",
       "      <td>579</td>\n",
       "      <td>579</td>\n",
       "    </tr>\n",
       "  </tbody>\n",
       "</table>\n",
       "<p>2 rows × 23 columns</p>\n",
       "</div>"
      ],
      "text/plain": [
       "       Sex  Age  Patients number per hour  Arrival mode  Injury  \\\n",
       "Group                                                             \n",
       "1      688  688                       688           688     688   \n",
       "2      579  579                       579           579     579   \n",
       "\n",
       "       Chief_complain  Mental  Pain  NRS_pain  SBP  ...   BT  Saturation  \\\n",
       "Group                                               ...                    \n",
       "1                 688     688   688       370  670  ...  688           0   \n",
       "2                 579     579   579       341  572  ...  579         570   \n",
       "\n",
       "       KTAS_RN  Diagnosis in ED  Disposition  KTAS_expert  Error_group  \\\n",
       "Group                                                                    \n",
       "1          688              688          688          688          688   \n",
       "2          579              577          579          579          579   \n",
       "\n",
       "       Length of stay_min  KTAS duration_min  mistriage  \n",
       "Group                                                    \n",
       "1                     688                688        688  \n",
       "2                     579                579        579  \n",
       "\n",
       "[2 rows x 23 columns]"
      ]
     },
     "execution_count": 12,
     "metadata": {},
     "output_type": "execute_result"
    }
   ],
   "source": [
    "df.groupby('Group').count()"
   ]
  },
  {
   "cell_type": "code",
   "execution_count": 13,
   "id": "14603ae4",
   "metadata": {},
   "outputs": [],
   "source": [
    "df[\"Saturation\"] = df.groupby([\"mistriage\", \"KTAS_expert\"])[\"Saturation\"].transform(lambda x: x.fillna(x.mode()[0]))"
   ]
  },
  {
   "cell_type": "code",
   "execution_count": 14,
   "id": "6c784363",
   "metadata": {},
   "outputs": [
    {
     "name": "stdout",
     "output_type": "stream",
     "text": [
      "                 n_miss  ratio\n",
      "NRS_pain            556  43.88\n",
      "DBP                  29   2.29\n",
      "SBP                  25   1.97\n",
      "Diagnosis in ED       2   0.16\n"
     ]
    },
    {
     "data": {
      "text/plain": [
       "['NRS_pain', 'SBP', 'DBP', 'Diagnosis in ED']"
      ]
     },
     "execution_count": 14,
     "metadata": {},
     "output_type": "execute_result"
    }
   ],
   "source": [
    "missing_values_table(df)"
   ]
  },
  {
   "cell_type": "code",
   "execution_count": 15,
   "id": "b05d5e7e",
   "metadata": {},
   "outputs": [
    {
     "data": {
      "text/html": [
       "<div>\n",
       "<style scoped>\n",
       "    .dataframe tbody tr th:only-of-type {\n",
       "        vertical-align: middle;\n",
       "    }\n",
       "\n",
       "    .dataframe tbody tr th {\n",
       "        vertical-align: top;\n",
       "    }\n",
       "\n",
       "    .dataframe thead th {\n",
       "        text-align: right;\n",
       "    }\n",
       "</style>\n",
       "<table border=\"1\" class=\"dataframe\">\n",
       "  <thead>\n",
       "    <tr style=\"text-align: right;\">\n",
       "      <th></th>\n",
       "      <th>SBP</th>\n",
       "      <th>DBP</th>\n",
       "    </tr>\n",
       "  </thead>\n",
       "  <tbody>\n",
       "    <tr>\n",
       "      <th>122</th>\n",
       "      <td>50.0</td>\n",
       "      <td>33.0</td>\n",
       "    </tr>\n",
       "    <tr>\n",
       "      <th>123</th>\n",
       "      <td>50.0</td>\n",
       "      <td>33.0</td>\n",
       "    </tr>\n",
       "    <tr>\n",
       "      <th>133</th>\n",
       "      <td>65.0</td>\n",
       "      <td>45.0</td>\n",
       "    </tr>\n",
       "    <tr>\n",
       "      <th>153</th>\n",
       "      <td>70.0</td>\n",
       "      <td>NaN</td>\n",
       "    </tr>\n",
       "    <tr>\n",
       "      <th>968</th>\n",
       "      <td>60.0</td>\n",
       "      <td>NaN</td>\n",
       "    </tr>\n",
       "    <tr>\n",
       "      <th>971</th>\n",
       "      <td>70.0</td>\n",
       "      <td>NaN</td>\n",
       "    </tr>\n",
       "    <tr>\n",
       "      <th>1054</th>\n",
       "      <td>60.0</td>\n",
       "      <td>NaN</td>\n",
       "    </tr>\n",
       "    <tr>\n",
       "      <th>1131</th>\n",
       "      <td>70.0</td>\n",
       "      <td>40.0</td>\n",
       "    </tr>\n",
       "    <tr>\n",
       "      <th>1205</th>\n",
       "      <td>70.0</td>\n",
       "      <td>40.0</td>\n",
       "    </tr>\n",
       "  </tbody>\n",
       "</table>\n",
       "</div>"
      ],
      "text/plain": [
       "       SBP   DBP\n",
       "122   50.0  33.0\n",
       "123   50.0  33.0\n",
       "133   65.0  45.0\n",
       "153   70.0   NaN\n",
       "968   60.0   NaN\n",
       "971   70.0   NaN\n",
       "1054  60.0   NaN\n",
       "1131  70.0  40.0\n",
       "1205  70.0  40.0"
      ]
     },
     "execution_count": 15,
     "metadata": {},
     "output_type": "execute_result"
    }
   ],
   "source": [
    "df.loc[(df['SBP'] <=70), ['SBP', 'DBP']]"
   ]
  },
  {
   "cell_type": "code",
   "execution_count": 16,
   "id": "236acdde",
   "metadata": {},
   "outputs": [
    {
     "data": {
      "text/plain": [
       "38.2"
      ]
     },
     "execution_count": 16,
     "metadata": {},
     "output_type": "execute_result"
    }
   ],
   "source": [
    "df.loc[(df['SBP'] <= 70), 'DBP'].mean()"
   ]
  },
  {
   "cell_type": "code",
   "execution_count": 17,
   "id": "48602b41",
   "metadata": {},
   "outputs": [],
   "source": [
    "#Filling DBP where only SBP is present. Median of this group's SBP is considerably lower. Using the median DBP of SBP's less than 70\n",
    "df.loc[(df['DBP'].isnull()) & (df['SBP'].notnull()), 'DBP'] = [38.2 for x in df.loc[(df['DBP'].isnull()) & \\\n",
    "                                                   (df['SBP'].notnull()), 'SBP']]"
   ]
  },
  {
   "cell_type": "code",
   "execution_count": 18,
   "id": "00a39f4d",
   "metadata": {},
   "outputs": [
    {
     "data": {
      "text/plain": [
       "80.0"
      ]
     },
     "execution_count": 18,
     "metadata": {},
     "output_type": "execute_result"
    }
   ],
   "source": [
    "df['DBP'].median()"
   ]
  },
  {
   "cell_type": "code",
   "execution_count": 19,
   "id": "a298cda6",
   "metadata": {},
   "outputs": [
    {
     "data": {
      "text/plain": [
       "130.0"
      ]
     },
     "execution_count": 19,
     "metadata": {},
     "output_type": "execute_result"
    }
   ],
   "source": [
    "df['SBP'].median()"
   ]
  },
  {
   "cell_type": "code",
   "execution_count": 20,
   "id": "e23e71de",
   "metadata": {},
   "outputs": [],
   "source": [
    "#Filling the rest of DBP and SBP with median\n",
    "df['DBP'] = df['DBP'].fillna(80)\n",
    "df['SBP'] = df['SBP'].fillna(130)"
   ]
  },
  {
   "cell_type": "code",
   "execution_count": 21,
   "id": "9e7609c6",
   "metadata": {},
   "outputs": [
    {
     "data": {
      "text/plain": [
       "array(['2', '3', '4', '5', '6', '8', '9', nan, '1', '7', '10'],\n",
       "      dtype=object)"
      ]
     },
     "execution_count": 21,
     "metadata": {},
     "output_type": "execute_result"
    }
   ],
   "source": [
    "df['NRS_pain'].unique()"
   ]
  },
  {
   "cell_type": "code",
   "execution_count": 22,
   "id": "e4f3dc4f",
   "metadata": {},
   "outputs": [],
   "source": [
    "#Filling pain_scale nan with 0 if no pain present\n",
    "df['NRS_pain'] = df['NRS_pain'].fillna(0)"
   ]
  },
  {
   "cell_type": "code",
   "execution_count": 23,
   "id": "91c0d037",
   "metadata": {},
   "outputs": [
    {
     "data": {
      "text/plain": [
       "Index(['Group', 'Sex', 'Age', 'Patients number per hour', 'Arrival mode',\n",
       "       'Injury', 'Chief_complain', 'Mental', 'Pain', 'NRS_pain', 'SBP', 'DBP',\n",
       "       'HR', 'RR', 'BT', 'Saturation', 'KTAS_RN', 'Diagnosis in ED',\n",
       "       'Disposition', 'KTAS_expert', 'Error_group', 'Length of stay_min',\n",
       "       'KTAS duration_min', 'mistriage'],\n",
       "      dtype='object')"
      ]
     },
     "execution_count": 23,
     "metadata": {},
     "output_type": "execute_result"
    }
   ],
   "source": [
    "df.columns"
   ]
  },
  {
   "cell_type": "code",
   "execution_count": 24,
   "id": "2286a46a",
   "metadata": {},
   "outputs": [
    {
     "data": {
      "text/plain": [
       "array([1, 2, 5, 7, 6, 3, 4], dtype=int64)"
      ]
     },
     "execution_count": 24,
     "metadata": {},
     "output_type": "execute_result"
    }
   ],
   "source": [
    "#Disposition \n",
    "#[1 = Dischange, 2 = Admission to ward, 3 = Admission to ICU, 4 = Disharge, 5 = Transfer, 6 = Death, 7 = Surgery]\n",
    "df['Disposition'].unique()"
   ]
  },
  {
   "cell_type": "code",
   "execution_count": 25,
   "id": "110b2ab5",
   "metadata": {},
   "outputs": [],
   "source": [
    "# Group results column based on whether the patient is admitted to the hospital or not\n",
    "df['Disposition'] = df['Disposition'].replace({1:0, 2:1, 5:1, 7:1, 6:0,\n",
    "                                              3:1, 4:0})\n"
   ]
  },
  {
   "cell_type": "code",
   "execution_count": 26,
   "id": "e8967ab9",
   "metadata": {},
   "outputs": [
    {
     "data": {
      "text/plain": [
       "array([0, 1], dtype=int64)"
      ]
     },
     "execution_count": 26,
     "metadata": {},
     "output_type": "execute_result"
    }
   ],
   "source": [
    "df['Disposition'].unique()"
   ]
  },
  {
   "cell_type": "code",
   "execution_count": 27,
   "id": "e111230c",
   "metadata": {},
   "outputs": [
    {
     "data": {
      "image/png": "[encoded data removed]",
      "text/plain": [
       "<Figure size 432x288 with 1 Axes>"
      ]
     },
     "metadata": {
      "needs_background": "light"
     },
     "output_type": "display_data"
    }
   ],
   "source": [
    "# Plotting the bar chart\n",
    "df['Disposition'].value_counts().plot(kind='bar', color=['blue', 'orange'])\n",
    "plt.title('Distribution of Disposition')\n",
    "\n",
    "# Create patches for the legend\n",
    "patches = [mpatches.Patch(color='blue', label='Admitted'), \n",
    "           mpatches.Patch(color='orange', label='Not Admitted')]\n",
    "\n",
    "# Add the legend to the plot\n",
    "plt.legend(handles=patches)\n",
    "\n",
    "# Add labels for the x and y axes\n",
    "plt.xlabel('Disposition')\n",
    "plt.ylabel('Count')\n",
    "\n",
    "plt.show()\n"
   ]
  },
  {
   "cell_type": "code",
   "execution_count": 28,
   "id": "65144a73",
   "metadata": {},
   "outputs": [
    {
     "data": {
      "text/plain": [
       "<matplotlib.axes._subplots.AxesSubplot at 0x24acccdeac8>"
      ]
     },
     "execution_count": 28,
     "metadata": {},
     "output_type": "execute_result"
    },
    {
     "data": {
      "image/png": "[encoded data removed]",
      "text/plain": [
       "<Figure size 432x288 with 1 Axes>"
      ]
     },
     "metadata": {
      "needs_background": "light"
     },
     "output_type": "display_data"
    }
   ],
   "source": [
    "#Get the Hist plot of Age\n",
    "sns.histplot(df['Age'])"
   ]
  },
  {
   "cell_type": "code",
   "execution_count": 29,
   "id": "a6220f99",
   "metadata": {},
   "outputs": [],
   "source": [
    "#female=1, Male=2 >>> change it to Female =0 Male=1\n",
    "\n",
    "df['Sex'] = df['Sex'].replace({1:0, 2:1})\n"
   ]
  },
  {
   "cell_type": "code",
   "execution_count": 30,
   "id": "14c270d3",
   "metadata": {},
   "outputs": [
    {
     "data": {
      "image/png": "[encoded data removed]",
      "text/plain": [
       "<Figure size 432x288 with 1 Axes>"
      ]
     },
     "metadata": {
      "needs_background": "light"
     },
     "output_type": "display_data"
    }
   ],
   "source": [
    "# Plotting the bar chart\n",
    "df['Sex'].value_counts().plot(kind='bar', color=['blue', 'orange'])\n",
    "plt.title('Distribution of Sex')\n",
    "\n",
    "# Create patches for the legend\n",
    "patches = [mpatches.Patch(color='blue', label='Female'), \n",
    "           mpatches.Patch(color='orange', label='Male')]\n",
    "\n",
    "# Add the legend to the plot\n",
    "plt.legend(handles=patches)\n",
    "\n",
    "# Add labels for the x and y axes\n",
    "plt.xlabel('Sex')\n",
    "plt.ylabel('Count')\n",
    "\n",
    "plt.show()\n"
   ]
  },
  {
   "cell_type": "code",
   "execution_count": 31,
   "id": "72d37ce2",
   "metadata": {},
   "outputs": [
    {
     "data": {
      "image/png": "[encoded data removed]",
      "text/plain": [
       "<Figure size 1080x1800 with 6 Axes>"
      ]
     },
     "metadata": {
      "needs_background": "light"
     },
     "output_type": "display_data"
    }
   ],
   "source": [
    "fig, ax = plt.subplots(3, 2, figsize=(15, 25))\n",
    "\n",
    "ax[0, 0].hist(df['SBP'], bins=30, edgecolor='black') \n",
    "ax[0, 0].set_title('Systolic Blood Pressure')\n",
    "\n",
    "ax[0, 1].hist(df['DBP'], bins=30, edgecolor='black') \n",
    "ax[0, 1].set_title('Diastolic Blood Pressure')\n",
    "\n",
    "ax[1, 0].hist(df['HR'], bins=30, edgecolor='black') \n",
    "ax[1, 0].set_title('Heart Rate')\n",
    "\n",
    "ax[1, 1].hist(df['RR'], bins=30, edgecolor='black') \n",
    "ax[1, 1].set_title('Repisratory Rate')\n",
    "\n",
    "ax[2, 0].hist(df['BT'], bins=30, edgecolor='black') \n",
    "ax[2, 0].set_title('Body Tempature')\n",
    "\n",
    "ax[2, 1].hist(df['Saturation'], bins=30, edgecolor='black') \n",
    "ax[2, 1].set_title('Saturation')\n",
    "\n",
    "plt.tight_layout()\n",
    "plt.show()\n"
   ]
  },
  {
   "cell_type": "code",
   "execution_count": 32,
   "id": "8b13c61d",
   "metadata": {},
   "outputs": [
    {
     "data": {
      "image/png": "[encoded data removed]",
      "text/plain": [
       "<Figure size 792x648 with 2 Axes>"
      ]
     },
     "metadata": {
      "needs_background": "light"
     },
     "output_type": "display_data"
    }
   ],
   "source": [
    "##Correlation heatmap\n",
    "\n",
    "# Compute the correlation matrix\n",
    "corr = df[['SBP', 'DBP', 'HR', 'RR', 'BT', 'Saturation','Age']].corr()\n",
    "\n",
    "\n",
    "# Generate a mask for the upper triangle\n",
    "mask = np.triu(np.ones_like(corr, dtype=bool))\n",
    "\n",
    "# Set up the matplotlib figure\n",
    "f, ax = plt.subplots(figsize=(11, 9))\n",
    "\n",
    "# Generate a custom diverging colormap\n",
    "cmap = sns.diverging_palette(230, 20, as_cmap=True)\n",
    "\n",
    "# Draw the heatmap with the mask, correct aspect ratio, and annotations\n",
    "sns.heatmap(corr, mask=mask, cmap=cmap, vmax=.3, center=0, annot=True,\n",
    "            square=True, linewidths=.5, cbar_kws={\"shrink\": .5})\n",
    "\n",
    "plt.title('Heatmap of Feature Correlations')\n",
    "plt.show()\n"
   ]
  },
  {
   "cell_type": "code",
   "execution_count": null,
   "id": "fe2a5599",
   "metadata": {},
   "outputs": [],
   "source": []
  },
  {
   "cell_type": "code",
   "execution_count": 33,
   "id": "8ce7e8e3",
   "metadata": {},
   "outputs": [
    {
     "data": {
      "image/png": "[encoded data removed]",
      "text/plain": [
       "<Figure size 432x288 with 1 Axes>"
      ]
     },
     "metadata": {
      "needs_background": "light"
     },
     "output_type": "display_data"
    }
   ],
   "source": [
    "import matplotlib.patches as mpatches\n",
    "\n",
    "df['Arrival mode'].value_counts().plot(kind='bar')\n",
    "plt.title('Distribution of Arrival mode')\n",
    "\n",
    "# Create patches for the legend\n",
    "patches = [mpatches.Patch(label='1: Walking'), \n",
    "           mpatches.Patch(label='2: Public Ambulance'), \n",
    "           mpatches.Patch(label='3: Private Vehicle'), \n",
    "           mpatches.Patch(label='4: Private Ambulance'),\n",
    "           mpatches.Patch(label='5: Wheelchair'),\n",
    "           mpatches.Patch(label='6: Public Transit'),\n",
    "           mpatches.Patch(label='7: Other')\n",
    "           ]\n",
    "\n",
    "# Add the legend to the plot\n",
    "plt.legend(handles=patches, loc='upper right')\n",
    "\n",
    "# Add labels for the x and y axes\n",
    "plt.xlabel('Arrival Mode')\n",
    "plt.ylabel('Frequency')\n",
    "\n",
    "plt.show()\n",
    "\n",
    "arrival_modes_to_replace = [5,6,7]\n",
    "        \n",
    "# Replace in dataframe\n",
    "for mode in arrival_modes_to_replace:\n",
    "    df['Arrival mode'] = df['Arrival mode'].replace(mode,\"Other\")"
   ]
  },
  {
   "cell_type": "code",
   "execution_count": 34,
   "id": "625521b2",
   "metadata": {},
   "outputs": [
    {
     "data": {
      "image/png": "[encoded data removed]",
      "text/plain": [
       "<Figure size 432x288 with 1 Axes>"
      ]
     },
     "metadata": {
      "needs_background": "light"
     },
     "output_type": "display_data"
    }
   ],
   "source": [
    "df['Mental'].value_counts().plot(kind='bar' , color='Green')\n",
    "plt.title('Distribution of Consciousness Level')\n",
    "\n",
    "# Mental [1 = Alert, 2 = Verbol Response, 3 = Pain Response, 4 = Unresponse]\n",
    "# Create patches for the legend\n",
    "patches = [mpatches.Patch(color='green', label='1: Alert'), \n",
    "           mpatches.Patch(color='green', label='2: Verbal Response'), \n",
    "           mpatches.Patch(color='green', label='3: Pain Response'), \n",
    "           mpatches.Patch(color='green', label='4: Unresponse')\n",
    "           ]\n",
    "\n",
    "# Add the legend to the plot\n",
    "plt.legend(handles=patches, loc='upper right')\n",
    "\n",
    "# Add labels for the x and y axes\n",
    "plt.xlabel('Consciousness Level')\n",
    "plt.ylabel('Frequency')\n",
    "\n",
    "plt.show()\n"
   ]
  },
  {
   "cell_type": "code",
   "execution_count": 35,
   "id": "c7364814",
   "metadata": {},
   "outputs": [
    {
     "data": {
      "image/png": "[encoded data removed]",
      "text/plain": [
       "<Figure size 1080x1440 with 6 Axes>"
      ]
     },
     "metadata": {
      "needs_background": "light"
     },
     "output_type": "display_data"
    }
   ],
   "source": [
    "#plotting some boxplots\n",
    "fig, ax = plt.subplots(3,2, figsize=(15,20))\n",
    "sns.boxplot(x=df[\"Age\"], ax=ax[0,0]);\n",
    "sns.boxplot(x=df[\"SBP\"], ax=ax[0,1]);\n",
    "sns.boxplot(x=df[\"DBP\"], ax=ax[1,0]);\n",
    "sns.boxplot(x=df[\"HR\"], ax=ax[1,1]);\n",
    "sns.boxplot(x=df[\"RR\"], ax=ax[2,0]);\n",
    "sns.boxplot(x=df[\"BT\"], ax=ax[2,1]);\n",
    "\n"
   ]
  },
  {
   "cell_type": "code",
   "execution_count": 36,
   "id": "d28ccdfd",
   "metadata": {},
   "outputs": [
    {
     "data": {
      "image/png": "[encoded data removed]",
      "text/plain": [
       "<Figure size 720x432 with 1 Axes>"
      ]
     },
     "metadata": {
      "needs_background": "light"
     },
     "output_type": "display_data"
    }
   ],
   "source": [
    "counts = df[\"KTAS_expert\"].value_counts()\n",
    "\n",
    "plt.figure(figsize=(10,6))\n",
    "plt.bar(counts.index, counts.values)\n",
    "plt.xlabel('Categories of KTAS_Expert')\n",
    "plt.ylabel('Count')\n",
    "plt.title('Bar Plot of KTAS_Expert')\n",
    "plt.show()"
   ]
  },
  {
   "cell_type": "code",
   "execution_count": null,
   "id": "34913455",
   "metadata": {},
   "outputs": [],
   "source": []
  },
  {
   "cell_type": "markdown",
   "id": "41a3f519",
   "metadata": {},
   "source": [
    "# Modeling"
   ]
  },
  {
   "cell_type": "code",
   "execution_count": 37,
   "id": "9867938b",
   "metadata": {},
   "outputs": [],
   "source": [
    "from sklearn.preprocessing import StandardScaler\n",
    "from sklearn.metrics import accuracy_score, confusion_matrix, classification_report"
   ]
  },
  {
   "cell_type": "code",
   "execution_count": 38,
   "id": "bc53f5e5",
   "metadata": {},
   "outputs": [],
   "source": [
    "# Scale the columns\n",
    "scaler = StandardScaler()\n",
    "df[['SBP', 'DBP', 'HR', 'RR', 'BT', 'Saturation','Age']] = scaler.fit_transform(df[['SBP', 'DBP', 'HR', 'RR', 'BT', 'Saturation','Age']])\n"
   ]
  },
  {
   "cell_type": "code",
   "execution_count": 39,
   "id": "f9b59f40",
   "metadata": {},
   "outputs": [
    {
     "data": {
      "text/html": [
       "<div>\n",
       "<style scoped>\n",
       "    .dataframe tbody tr th:only-of-type {\n",
       "        vertical-align: middle;\n",
       "    }\n",
       "\n",
       "    .dataframe tbody tr th {\n",
       "        vertical-align: top;\n",
       "    }\n",
       "\n",
       "    .dataframe thead th {\n",
       "        text-align: right;\n",
       "    }\n",
       "</style>\n",
       "<table border=\"1\" class=\"dataframe\">\n",
       "  <thead>\n",
       "    <tr style=\"text-align: right;\">\n",
       "      <th></th>\n",
       "      <th>Group</th>\n",
       "      <th>Sex</th>\n",
       "      <th>Age</th>\n",
       "      <th>Patients number per hour</th>\n",
       "      <th>Arrival mode</th>\n",
       "      <th>Injury</th>\n",
       "      <th>Chief_complain</th>\n",
       "      <th>Mental</th>\n",
       "      <th>Pain</th>\n",
       "      <th>NRS_pain</th>\n",
       "      <th>...</th>\n",
       "      <th>BT</th>\n",
       "      <th>Saturation</th>\n",
       "      <th>KTAS_RN</th>\n",
       "      <th>Diagnosis in ED</th>\n",
       "      <th>Disposition</th>\n",
       "      <th>KTAS_expert</th>\n",
       "      <th>Error_group</th>\n",
       "      <th>Length of stay_min</th>\n",
       "      <th>KTAS duration_min</th>\n",
       "      <th>mistriage</th>\n",
       "    </tr>\n",
       "  </thead>\n",
       "  <tbody>\n",
       "    <tr>\n",
       "      <th>0</th>\n",
       "      <td>2</td>\n",
       "      <td>1</td>\n",
       "      <td>0.840694</td>\n",
       "      <td>3</td>\n",
       "      <td>3</td>\n",
       "      <td>2</td>\n",
       "      <td>right ocular pain</td>\n",
       "      <td>1</td>\n",
       "      <td>1</td>\n",
       "      <td>2</td>\n",
       "      <td>...</td>\n",
       "      <td>0.037883</td>\n",
       "      <td>0.699964</td>\n",
       "      <td>2</td>\n",
       "      <td>Corneal abrasion</td>\n",
       "      <td>0</td>\n",
       "      <td>4</td>\n",
       "      <td>2</td>\n",
       "      <td>86</td>\n",
       "      <td>5,00</td>\n",
       "      <td>1</td>\n",
       "    </tr>\n",
       "    <tr>\n",
       "      <th>1</th>\n",
       "      <td>1</td>\n",
       "      <td>0</td>\n",
       "      <td>0.079938</td>\n",
       "      <td>12</td>\n",
       "      <td>3</td>\n",
       "      <td>2</td>\n",
       "      <td>right forearm burn</td>\n",
       "      <td>1</td>\n",
       "      <td>1</td>\n",
       "      <td>2</td>\n",
       "      <td>...</td>\n",
       "      <td>-0.146726</td>\n",
       "      <td>0.187331</td>\n",
       "      <td>4</td>\n",
       "      <td>Burn of hand, firts degree dorsum</td>\n",
       "      <td>0</td>\n",
       "      <td>5</td>\n",
       "      <td>4</td>\n",
       "      <td>64</td>\n",
       "      <td>3,95</td>\n",
       "      <td>1</td>\n",
       "    </tr>\n",
       "    <tr>\n",
       "      <th>2</th>\n",
       "      <td>2</td>\n",
       "      <td>0</td>\n",
       "      <td>0.688543</td>\n",
       "      <td>8</td>\n",
       "      <td>2</td>\n",
       "      <td>2</td>\n",
       "      <td>arm pain, Lt</td>\n",
       "      <td>1</td>\n",
       "      <td>1</td>\n",
       "      <td>2</td>\n",
       "      <td>...</td>\n",
       "      <td>0.037883</td>\n",
       "      <td>0.187331</td>\n",
       "      <td>4</td>\n",
       "      <td>Fracture of surgical neck of humerus, closed</td>\n",
       "      <td>1</td>\n",
       "      <td>5</td>\n",
       "      <td>4</td>\n",
       "      <td>862</td>\n",
       "      <td>1,00</td>\n",
       "      <td>1</td>\n",
       "    </tr>\n",
       "    <tr>\n",
       "      <th>3</th>\n",
       "      <td>1</td>\n",
       "      <td>1</td>\n",
       "      <td>0.840694</td>\n",
       "      <td>8</td>\n",
       "      <td>1</td>\n",
       "      <td>1</td>\n",
       "      <td>ascites tapping</td>\n",
       "      <td>1</td>\n",
       "      <td>1</td>\n",
       "      <td>3</td>\n",
       "      <td>...</td>\n",
       "      <td>-0.146726</td>\n",
       "      <td>0.187331</td>\n",
       "      <td>4</td>\n",
       "      <td>Alcoholic liver cirrhosis with ascites</td>\n",
       "      <td>0</td>\n",
       "      <td>5</td>\n",
       "      <td>6</td>\n",
       "      <td>108</td>\n",
       "      <td>9,83</td>\n",
       "      <td>1</td>\n",
       "    </tr>\n",
       "    <tr>\n",
       "      <th>4</th>\n",
       "      <td>1</td>\n",
       "      <td>1</td>\n",
       "      <td>0.181372</td>\n",
       "      <td>4</td>\n",
       "      <td>3</td>\n",
       "      <td>1</td>\n",
       "      <td>distension, abd</td>\n",
       "      <td>1</td>\n",
       "      <td>1</td>\n",
       "      <td>3</td>\n",
       "      <td>...</td>\n",
       "      <td>-0.146726</td>\n",
       "      <td>0.187331</td>\n",
       "      <td>4</td>\n",
       "      <td>Ascites</td>\n",
       "      <td>0</td>\n",
       "      <td>5</td>\n",
       "      <td>8</td>\n",
       "      <td>109</td>\n",
       "      <td>6,60</td>\n",
       "      <td>1</td>\n",
       "    </tr>\n",
       "  </tbody>\n",
       "</table>\n",
       "<p>5 rows × 24 columns</p>\n",
       "</div>"
      ],
      "text/plain": [
       "   Group  Sex       Age  Patients number per hour Arrival mode  Injury  \\\n",
       "0      2    1  0.840694                         3            3       2   \n",
       "1      1    0  0.079938                        12            3       2   \n",
       "2      2    0  0.688543                         8            2       2   \n",
       "3      1    1  0.840694                         8            1       1   \n",
       "4      1    1  0.181372                         4            3       1   \n",
       "\n",
       "       Chief_complain  Mental  Pain NRS_pain  ...        BT  Saturation  \\\n",
       "0   right ocular pain       1     1        2  ...  0.037883    0.699964   \n",
       "1  right forearm burn       1     1        2  ... -0.146726    0.187331   \n",
       "2        arm pain, Lt       1     1        2  ...  0.037883    0.187331   \n",
       "3     ascites tapping       1     1        3  ... -0.146726    0.187331   \n",
       "4     distension, abd       1     1        3  ... -0.146726    0.187331   \n",
       "\n",
       "   KTAS_RN                               Diagnosis in ED  Disposition  \\\n",
       "0        2                              Corneal abrasion            0   \n",
       "1        4             Burn of hand, firts degree dorsum            0   \n",
       "2        4  Fracture of surgical neck of humerus, closed            1   \n",
       "3        4        Alcoholic liver cirrhosis with ascites            0   \n",
       "4        4                                       Ascites            0   \n",
       "\n",
       "   KTAS_expert  Error_group Length of stay_min  KTAS duration_min  mistriage  \n",
       "0            4            2                 86               5,00          1  \n",
       "1            5            4                 64               3,95          1  \n",
       "2            5            4                862               1,00          1  \n",
       "3            5            6                108               9,83          1  \n",
       "4            5            8                109               6,60          1  \n",
       "\n",
       "[5 rows x 24 columns]"
      ]
     },
     "execution_count": 39,
     "metadata": {},
     "output_type": "execute_result"
    }
   ],
   "source": [
    "df.head()"
   ]
  },
  {
   "cell_type": "code",
   "execution_count": 40,
   "id": "d295f36e",
   "metadata": {},
   "outputs": [
    {
     "data": {
      "text/plain": [
       "Index(['Group', 'Sex', 'Age', 'Patients number per hour', 'Arrival mode',\n",
       "       'Injury', 'Chief_complain', 'Mental', 'Pain', 'NRS_pain', 'SBP', 'DBP',\n",
       "       'HR', 'RR', 'BT', 'Saturation', 'KTAS_RN', 'Diagnosis in ED',\n",
       "       'Disposition', 'KTAS_expert', 'Error_group', 'Length of stay_min',\n",
       "       'KTAS duration_min', 'mistriage'],\n",
       "      dtype='object')"
      ]
     },
     "execution_count": 40,
     "metadata": {},
     "output_type": "execute_result"
    }
   ],
   "source": [
    "df.columns"
   ]
  },
  {
   "cell_type": "code",
   "execution_count": 41,
   "id": "5230b164",
   "metadata": {},
   "outputs": [],
   "source": [
    "#choose the new df with selected variables\n",
    "df_modified=df[['Sex', 'Age','Arrival mode','Injury','Mental', 'Pain', 'NRS_pain', 'SBP', 'DBP',\n",
    "       'HR', 'RR', 'BT', 'Saturation', 'KTAS_expert']]"
   ]
  },
  {
   "cell_type": "code",
   "execution_count": 42,
   "id": "2222d811",
   "metadata": {},
   "outputs": [
    {
     "name": "stderr",
     "output_type": "stream",
     "text": [
      "C:\\Users\\deonj\\anaconda3\\envs\\PythonStuff\\lib\\site-packages\\ipykernel_launcher.py:1: SettingWithCopyWarning: \n",
      "A value is trying to be set on a copy of a slice from a DataFrame.\n",
      "Try using .loc[row_indexer,col_indexer] = value instead\n",
      "\n",
      "See the caveats in the documentation: https://pandas.pydata.org/pandas-docs/stable/user_guide/indexing.html#returning-a-view-versus-a-copy\n",
      "  \"\"\"Entry point for launching an IPython kernel.\n",
      "C:\\Users\\deonj\\anaconda3\\envs\\PythonStuff\\lib\\site-packages\\ipykernel_launcher.py:2: SettingWithCopyWarning: \n",
      "A value is trying to be set on a copy of a slice from a DataFrame.\n",
      "Try using .loc[row_indexer,col_indexer] = value instead\n",
      "\n",
      "See the caveats in the documentation: https://pandas.pydata.org/pandas-docs/stable/user_guide/indexing.html#returning-a-view-versus-a-copy\n",
      "  \n"
     ]
    },
    {
     "data": {
      "text/plain": [
       "Sex               int64\n",
       "Age             float64\n",
       "Arrival mode     object\n",
       "Injury            int64\n",
       "Mental            int64\n",
       "Pain              int64\n",
       "NRS_pain          int32\n",
       "SBP             float64\n",
       "DBP             float64\n",
       "HR              float64\n",
       "RR              float64\n",
       "BT              float64\n",
       "Saturation      float64\n",
       "KTAS_expert       int64\n",
       "dtype: object"
      ]
     },
     "execution_count": 42,
     "metadata": {},
     "output_type": "execute_result"
    }
   ],
   "source": [
    "df_modified['Arrival mode'] = df_modified['Arrival mode'].astype(str)\n",
    "df_modified['NRS_pain'] = df_modified['NRS_pain'].astype(int)\n",
    "df_modified.dtypes"
   ]
  },
  {
   "cell_type": "code",
   "execution_count": 43,
   "id": "164a461e",
   "metadata": {},
   "outputs": [],
   "source": [
    "# Separate the y variable, the labels\n",
    "y = df_modified[\"KTAS_expert\"]\n",
    "\n",
    "# Separate the X variable, the features\n",
    "X = df_modified.drop(columns=\"KTAS_expert\")\n",
    "X = pd.get_dummies(X)\n"
   ]
  },
  {
   "cell_type": "code",
   "execution_count": 44,
   "id": "fff6fc76",
   "metadata": {},
   "outputs": [
    {
     "name": "stdout",
     "output_type": "stream",
     "text": [
      "3    487\n",
      "4    459\n",
      "2    220\n",
      "5     75\n",
      "1     26\n",
      "Name: KTAS_expert, dtype: int64\n"
     ]
    }
   ],
   "source": [
    "print(y.value_counts())\n",
    "#[1,2,3 = Emergency, 4,5 = Non-Emergency]"
   ]
  },
  {
   "cell_type": "code",
   "execution_count": 45,
   "id": "33bf2bdb",
   "metadata": {},
   "outputs": [
    {
     "data": {
      "text/html": [
       "<div>\n",
       "<style scoped>\n",
       "    .dataframe tbody tr th:only-of-type {\n",
       "        vertical-align: middle;\n",
       "    }\n",
       "\n",
       "    .dataframe tbody tr th {\n",
       "        vertical-align: top;\n",
       "    }\n",
       "\n",
       "    .dataframe thead th {\n",
       "        text-align: right;\n",
       "    }\n",
       "</style>\n",
       "<table border=\"1\" class=\"dataframe\">\n",
       "  <thead>\n",
       "    <tr style=\"text-align: right;\">\n",
       "      <th></th>\n",
       "      <th>Sex</th>\n",
       "      <th>Age</th>\n",
       "      <th>Injury</th>\n",
       "      <th>Mental</th>\n",
       "      <th>Pain</th>\n",
       "      <th>NRS_pain</th>\n",
       "      <th>SBP</th>\n",
       "      <th>DBP</th>\n",
       "      <th>HR</th>\n",
       "      <th>RR</th>\n",
       "      <th>BT</th>\n",
       "      <th>Saturation</th>\n",
       "      <th>Arrival mode_1</th>\n",
       "      <th>Arrival mode_2</th>\n",
       "      <th>Arrival mode_3</th>\n",
       "      <th>Arrival mode_4</th>\n",
       "      <th>Arrival mode_Other</th>\n",
       "    </tr>\n",
       "  </thead>\n",
       "  <tbody>\n",
       "    <tr>\n",
       "      <th>0</th>\n",
       "      <td>1</td>\n",
       "      <td>0.840694</td>\n",
       "      <td>2</td>\n",
       "      <td>1</td>\n",
       "      <td>1</td>\n",
       "      <td>2</td>\n",
       "      <td>0.978664</td>\n",
       "      <td>1.342617</td>\n",
       "      <td>0.044834</td>\n",
       "      <td>-0.603315</td>\n",
       "      <td>0.037883</td>\n",
       "      <td>0.699964</td>\n",
       "      <td>0</td>\n",
       "      <td>0</td>\n",
       "      <td>1</td>\n",
       "      <td>0</td>\n",
       "      <td>0</td>\n",
       "    </tr>\n",
       "    <tr>\n",
       "      <th>1</th>\n",
       "      <td>0</td>\n",
       "      <td>0.079938</td>\n",
       "      <td>2</td>\n",
       "      <td>1</td>\n",
       "      <td>1</td>\n",
       "      <td>2</td>\n",
       "      <td>0.126784</td>\n",
       "      <td>-0.307061</td>\n",
       "      <td>-1.323953</td>\n",
       "      <td>0.066330</td>\n",
       "      <td>-0.146726</td>\n",
       "      <td>0.187331</td>\n",
       "      <td>0</td>\n",
       "      <td>0</td>\n",
       "      <td>1</td>\n",
       "      <td>0</td>\n",
       "      <td>0</td>\n",
       "    </tr>\n",
       "    <tr>\n",
       "      <th>2</th>\n",
       "      <td>0</td>\n",
       "      <td>0.688543</td>\n",
       "      <td>2</td>\n",
       "      <td>1</td>\n",
       "      <td>1</td>\n",
       "      <td>2</td>\n",
       "      <td>-0.132484</td>\n",
       "      <td>0.022874</td>\n",
       "      <td>1.071424</td>\n",
       "      <td>0.066330</td>\n",
       "      <td>0.037883</td>\n",
       "      <td>0.187331</td>\n",
       "      <td>0</td>\n",
       "      <td>1</td>\n",
       "      <td>0</td>\n",
       "      <td>0</td>\n",
       "      <td>0</td>\n",
       "    </tr>\n",
       "    <tr>\n",
       "      <th>3</th>\n",
       "      <td>1</td>\n",
       "      <td>0.840694</td>\n",
       "      <td>1</td>\n",
       "      <td>1</td>\n",
       "      <td>1</td>\n",
       "      <td>3</td>\n",
       "      <td>0.200860</td>\n",
       "      <td>0.946694</td>\n",
       "      <td>0.272965</td>\n",
       "      <td>0.066330</td>\n",
       "      <td>-0.146726</td>\n",
       "      <td>0.187331</td>\n",
       "      <td>1</td>\n",
       "      <td>0</td>\n",
       "      <td>0</td>\n",
       "      <td>0</td>\n",
       "      <td>0</td>\n",
       "    </tr>\n",
       "    <tr>\n",
       "      <th>4</th>\n",
       "      <td>1</td>\n",
       "      <td>0.181372</td>\n",
       "      <td>1</td>\n",
       "      <td>1</td>\n",
       "      <td>1</td>\n",
       "      <td>3</td>\n",
       "      <td>-1.576977</td>\n",
       "      <td>-0.834958</td>\n",
       "      <td>0.558129</td>\n",
       "      <td>-0.603315</td>\n",
       "      <td>-0.146726</td>\n",
       "      <td>0.187331</td>\n",
       "      <td>0</td>\n",
       "      <td>0</td>\n",
       "      <td>1</td>\n",
       "      <td>0</td>\n",
       "      <td>0</td>\n",
       "    </tr>\n",
       "  </tbody>\n",
       "</table>\n",
       "</div>"
      ],
      "text/plain": [
       "   Sex       Age  Injury  Mental  Pain  NRS_pain       SBP       DBP  \\\n",
       "0    1  0.840694       2       1     1         2  0.978664  1.342617   \n",
       "1    0  0.079938       2       1     1         2  0.126784 -0.307061   \n",
       "2    0  0.688543       2       1     1         2 -0.132484  0.022874   \n",
       "3    1  0.840694       1       1     1         3  0.200860  0.946694   \n",
       "4    1  0.181372       1       1     1         3 -1.576977 -0.834958   \n",
       "\n",
       "         HR        RR        BT  Saturation  Arrival mode_1  Arrival mode_2  \\\n",
       "0  0.044834 -0.603315  0.037883    0.699964               0               0   \n",
       "1 -1.323953  0.066330 -0.146726    0.187331               0               0   \n",
       "2  1.071424  0.066330  0.037883    0.187331               0               1   \n",
       "3  0.272965  0.066330 -0.146726    0.187331               1               0   \n",
       "4  0.558129 -0.603315 -0.146726    0.187331               0               0   \n",
       "\n",
       "   Arrival mode_3  Arrival mode_4  Arrival mode_Other  \n",
       "0               1               0                   0  \n",
       "1               1               0                   0  \n",
       "2               0               0                   0  \n",
       "3               0               0                   0  \n",
       "4               1               0                   0  "
      ]
     },
     "execution_count": 45,
     "metadata": {},
     "output_type": "execute_result"
    }
   ],
   "source": [
    "X.head()"
   ]
  },
  {
   "cell_type": "code",
   "execution_count": 46,
   "id": "405f2b55",
   "metadata": {},
   "outputs": [],
   "source": [
    "# Import the train_test_learn module\n",
    "from sklearn.model_selection import train_test_split\n",
    "\n",
    "# Split the data using train_test_split\n",
    "# Assign a random_state of 1 to the function\n",
    "\n",
    "X_train, X_test, y_train, y_test = train_test_split(X, \n",
    "                                                    y, \n",
    "                                                    random_state=1, \n",
    "                                                    stratify=y)"
   ]
  },
  {
   "cell_type": "markdown",
   "id": "98fabf85",
   "metadata": {},
   "source": [
    "# Logistic regression for Scaled data"
   ]
  },
  {
   "cell_type": "code",
   "execution_count": 47,
   "id": "6997faa3",
   "metadata": {},
   "outputs": [
    {
     "name": "stderr",
     "output_type": "stream",
     "text": [
      "C:\\Users\\deonj\\anaconda3\\envs\\PythonStuff\\lib\\site-packages\\sklearn\\linear_model\\_logistic.py:818: ConvergenceWarning: lbfgs failed to converge (status=1):\n",
      "STOP: TOTAL NO. of ITERATIONS REACHED LIMIT.\n",
      "\n",
      "Increase the number of iterations (max_iter) or scale the data as shown in:\n",
      "    https://scikit-learn.org/stable/modules/preprocessing.html\n",
      "Please also refer to the documentation for alternative solver options:\n",
      "    https://scikit-learn.org/stable/modules/linear_model.html#logistic-regression\n",
      "  extra_warning_msg=_LOGISTIC_SOLVER_CONVERGENCE_MSG,\n"
     ]
    },
    {
     "data": {
      "text/plain": [
       "LogisticRegression(random_state=1)"
      ]
     },
     "execution_count": 47,
     "metadata": {},
     "output_type": "execute_result"
    }
   ],
   "source": [
    "# Import the LogisticRegression module from SKLearn\n",
    "from sklearn.linear_model import LogisticRegression\n",
    "\n",
    "# Instantiate the Logistic Regression model\n",
    "# Assign a random_state parameter of 1 to the model\n",
    "classifier = LogisticRegression(solver='lbfgs', random_state=1)\n",
    "# Fit the model using training data\n",
    "classifier.fit(X_train,y_train)"
   ]
  },
  {
   "cell_type": "code",
   "execution_count": 48,
   "id": "c2464573",
   "metadata": {},
   "outputs": [
    {
     "data": {
      "text/html": [
       "<div>\n",
       "<style scoped>\n",
       "    .dataframe tbody tr th:only-of-type {\n",
       "        vertical-align: middle;\n",
       "    }\n",
       "\n",
       "    .dataframe tbody tr th {\n",
       "        vertical-align: top;\n",
       "    }\n",
       "\n",
       "    .dataframe thead th {\n",
       "        text-align: right;\n",
       "    }\n",
       "</style>\n",
       "<table border=\"1\" class=\"dataframe\">\n",
       "  <thead>\n",
       "    <tr style=\"text-align: right;\">\n",
       "      <th></th>\n",
       "      <th>Prediction</th>\n",
       "      <th>Actual</th>\n",
       "    </tr>\n",
       "  </thead>\n",
       "  <tbody>\n",
       "    <tr>\n",
       "      <th>535</th>\n",
       "      <td>2</td>\n",
       "      <td>3</td>\n",
       "    </tr>\n",
       "    <tr>\n",
       "      <th>564</th>\n",
       "      <td>4</td>\n",
       "      <td>3</td>\n",
       "    </tr>\n",
       "    <tr>\n",
       "      <th>955</th>\n",
       "      <td>4</td>\n",
       "      <td>2</td>\n",
       "    </tr>\n",
       "    <tr>\n",
       "      <th>1067</th>\n",
       "      <td>3</td>\n",
       "      <td>4</td>\n",
       "    </tr>\n",
       "    <tr>\n",
       "      <th>96</th>\n",
       "      <td>4</td>\n",
       "      <td>3</td>\n",
       "    </tr>\n",
       "    <tr>\n",
       "      <th>...</th>\n",
       "      <td>...</td>\n",
       "      <td>...</td>\n",
       "    </tr>\n",
       "    <tr>\n",
       "      <th>574</th>\n",
       "      <td>4</td>\n",
       "      <td>3</td>\n",
       "    </tr>\n",
       "    <tr>\n",
       "      <th>89</th>\n",
       "      <td>4</td>\n",
       "      <td>3</td>\n",
       "    </tr>\n",
       "    <tr>\n",
       "      <th>492</th>\n",
       "      <td>4</td>\n",
       "      <td>4</td>\n",
       "    </tr>\n",
       "    <tr>\n",
       "      <th>602</th>\n",
       "      <td>4</td>\n",
       "      <td>4</td>\n",
       "    </tr>\n",
       "    <tr>\n",
       "      <th>1215</th>\n",
       "      <td>3</td>\n",
       "      <td>5</td>\n",
       "    </tr>\n",
       "  </tbody>\n",
       "</table>\n",
       "<p>317 rows × 2 columns</p>\n",
       "</div>"
      ],
      "text/plain": [
       "      Prediction  Actual\n",
       "535            2       3\n",
       "564            4       3\n",
       "955            4       2\n",
       "1067           3       4\n",
       "96             4       3\n",
       "...          ...     ...\n",
       "574            4       3\n",
       "89             4       3\n",
       "492            4       4\n",
       "602            4       4\n",
       "1215           3       5\n",
       "\n",
       "[317 rows x 2 columns]"
      ]
     },
     "execution_count": 48,
     "metadata": {},
     "output_type": "execute_result"
    }
   ],
   "source": [
    "# Make a prediction using the testing data\n",
    "predictions = classifier.predict(X_test)\n",
    "pd.DataFrame({\"Prediction\": predictions, \"Actual\": y_test})"
   ]
  },
  {
   "cell_type": "code",
   "execution_count": 49,
   "id": "23a70c25",
   "metadata": {},
   "outputs": [
    {
     "name": "stdout",
     "output_type": "stream",
     "text": [
      "accuracy score of the model is : 0.5741324921135647\n"
     ]
    }
   ],
   "source": [
    "print( f'accuracy score of the model is : {accuracy_score(y_test, predictions)}')\n"
   ]
  },
  {
   "cell_type": "code",
   "execution_count": 50,
   "id": "7074793d",
   "metadata": {},
   "outputs": [
    {
     "data": {
      "text/plain": [
       "array([[ 4,  2,  0,  0,  0],\n",
       "       [ 1, 14, 27, 13,  0],\n",
       "       [ 0,  4, 85, 33,  0],\n",
       "       [ 0,  3, 33, 79,  0],\n",
       "       [ 0,  1,  8, 10,  0]], dtype=int64)"
      ]
     },
     "execution_count": 50,
     "metadata": {},
     "output_type": "execute_result"
    }
   ],
   "source": [
    "# Generate a confusion matrix for the model\n",
    "test_matrix = confusion_matrix(y_test, predictions)\n",
    "test_matrix"
   ]
  },
  {
   "cell_type": "code",
   "execution_count": 51,
   "id": "968ca642",
   "metadata": {},
   "outputs": [
    {
     "name": "stdout",
     "output_type": "stream",
     "text": [
      "              precision    recall  f1-score   support\n",
      "\n",
      "           1       0.80      0.67      0.73         6\n",
      "           2       0.58      0.25      0.35        55\n",
      "           3       0.56      0.70      0.62       122\n",
      "           4       0.59      0.69      0.63       115\n",
      "           5       0.00      0.00      0.00        19\n",
      "\n",
      "    accuracy                           0.57       317\n",
      "   macro avg       0.50      0.46      0.47       317\n",
      "weighted avg       0.54      0.57      0.54       317\n",
      "\n"
     ]
    },
    {
     "name": "stderr",
     "output_type": "stream",
     "text": [
      "C:\\Users\\deonj\\anaconda3\\envs\\PythonStuff\\lib\\site-packages\\sklearn\\metrics\\_classification.py:1318: UndefinedMetricWarning: Precision and F-score are ill-defined and being set to 0.0 in labels with no predicted samples. Use `zero_division` parameter to control this behavior.\n",
      "  _warn_prf(average, modifier, msg_start, len(result))\n",
      "C:\\Users\\deonj\\anaconda3\\envs\\PythonStuff\\lib\\site-packages\\sklearn\\metrics\\_classification.py:1318: UndefinedMetricWarning: Precision and F-score are ill-defined and being set to 0.0 in labels with no predicted samples. Use `zero_division` parameter to control this behavior.\n",
      "  _warn_prf(average, modifier, msg_start, len(result))\n",
      "C:\\Users\\deonj\\anaconda3\\envs\\PythonStuff\\lib\\site-packages\\sklearn\\metrics\\_classification.py:1318: UndefinedMetricWarning: Precision and F-score are ill-defined and being set to 0.0 in labels with no predicted samples. Use `zero_division` parameter to control this behavior.\n",
      "  _warn_prf(average, modifier, msg_start, len(result))\n"
     ]
    }
   ],
   "source": [
    "# Print the classification report for the model\n",
    "testing_report = classification_report(y_test, predictions)\n",
    "print(testing_report)"
   ]
  },
  {
   "cell_type": "markdown",
   "id": "f2a58bd6",
   "metadata": {},
   "source": [
    "# Random Forest for Scaled data"
   ]
  },
  {
   "cell_type": "code",
   "execution_count": 52,
   "id": "b5338d7a",
   "metadata": {},
   "outputs": [
    {
     "name": "stdout",
     "output_type": "stream",
     "text": [
      "Accuracy: 0.6181102362204725\n",
      "Classification Report:\n",
      "               precision    recall  f1-score   support\n",
      "\n",
      "           1       1.00      1.00      1.00         6\n",
      "           2       0.67      0.37      0.47        49\n",
      "           3       0.59      0.79      0.68        91\n",
      "           4       0.62      0.73      0.67        83\n",
      "           5       0.00      0.00      0.00        25\n",
      "\n",
      "    accuracy                           0.62       254\n",
      "   macro avg       0.58      0.58      0.56       254\n",
      "weighted avg       0.57      0.62      0.58       254\n",
      "\n"
     ]
    }
   ],
   "source": [
    "from sklearn.ensemble import RandomForestClassifier\n",
    "\n",
    "# Split the data into a training and a test set\n",
    "X_train, X_test, y_train, y_test = train_test_split(X, y, test_size=0.2, random_state=42)\n",
    "\n",
    "# Instantiate the RandomForestClassifier\n",
    "model = RandomForestClassifier(n_estimators=100, random_state=42)\n",
    "\n",
    "# Train the model\n",
    "model.fit(X_train, y_train)\n",
    "\n",
    "# Predict the labels of the test set\n",
    "y_pred = model.predict(X_test)\n",
    "\n",
    "# Print the accuracy\n",
    "print(\"Accuracy:\", accuracy_score(y_test, y_pred))\n",
    "\n",
    "# Print the classification report\n",
    "print(\"Classification Report:\\n\", classification_report(y_test, y_pred))\n"
   ]
  },
  {
   "cell_type": "markdown",
   "id": "5e033a45",
   "metadata": {},
   "source": [
    "# Logistic Regression for scaled data + Oversampling"
   ]
  },
  {
   "cell_type": "code",
   "execution_count": 53,
   "id": "96d81011",
   "metadata": {},
   "outputs": [
    {
     "name": "stdout",
     "output_type": "stream",
     "text": [
      "Accuracy: 0.6078028747433265\n",
      "Classification Report:\n",
      "               precision    recall  f1-score   support\n",
      "\n",
      "           1       0.94      0.96      0.95        85\n",
      "           2       0.62      0.52      0.57       113\n",
      "           3       0.52      0.33      0.40        99\n",
      "           4       0.55      0.56      0.56       101\n",
      "           5       0.47      0.73      0.57        89\n",
      "\n",
      "    accuracy                           0.61       487\n",
      "   macro avg       0.62      0.62      0.61       487\n",
      "weighted avg       0.61      0.61      0.60       487\n",
      "\n"
     ]
    }
   ],
   "source": [
    "#Logistic Reg + Over sampling\n",
    "\n",
    "from imblearn.over_sampling import SMOTE\n",
    "\n",
    "# Separate the y variable, the labels\n",
    "y = df_modified[\"KTAS_expert\"]\n",
    "\n",
    "# Separate the X variable, the features\n",
    "X = df_modified.drop(columns=\"KTAS_expert\")\n",
    "X = pd.get_dummies(X)\n",
    "\n",
    "# Perform oversampling\n",
    "smote = SMOTE(random_state=42)\n",
    "X_resampled, y_resampled = smote.fit_resample(X, y)\n",
    "\n",
    "# Split the data into a training and a test set\n",
    "X_train, X_test, y_train, y_test = train_test_split(X_resampled, y_resampled, test_size=0.2, random_state=42)\n",
    "\n",
    "# Instantiate the logistic regression model\n",
    "model = LogisticRegression(solver='lbfgs', max_iter=1000)\n",
    "\n",
    "# Train the model\n",
    "model.fit(X_train, y_train)\n",
    "\n",
    "# Predict the labels of the test set\n",
    "y_pred = model.predict(X_test)\n",
    "\n",
    "# Print the accuracy\n",
    "print(\"Accuracy:\", accuracy_score(y_test, y_pred))\n",
    "\n",
    "# Print the classification report\n",
    "print(\"Classification Report:\\n\", classification_report(y_test, y_pred))\n"
   ]
  },
  {
   "cell_type": "markdown",
   "id": "9f6da116",
   "metadata": {},
   "source": [
    "# Random Forest for scaled data + Oversampling"
   ]
  },
  {
   "cell_type": "code",
   "execution_count": 54,
   "id": "c26e44d7",
   "metadata": {},
   "outputs": [
    {
     "name": "stdout",
     "output_type": "stream",
     "text": [
      "Accuracy: 0.7782340862422998\n",
      "Classification Report:\n",
      "               precision    recall  f1-score   support\n",
      "\n",
      "           1       0.93      1.00      0.97        85\n",
      "           2       0.77      0.74      0.76       113\n",
      "           3       0.63      0.70      0.66        99\n",
      "           4       0.75      0.58      0.66       101\n",
      "           5       0.83      0.92      0.87        89\n",
      "\n",
      "    accuracy                           0.78       487\n",
      "   macro avg       0.78      0.79      0.78       487\n",
      "weighted avg       0.78      0.78      0.77       487\n",
      "\n"
     ]
    }
   ],
   "source": [
    "#Oversampling + Random Forest\n",
    "\n",
    "# Separate the y variable, the labels\n",
    "y = df_modified[\"KTAS_expert\"]\n",
    "\n",
    "# Separate the X variable, the features\n",
    "X = df_modified.drop(columns=\"KTAS_expert\")\n",
    "X = pd.get_dummies(X)\n",
    "\n",
    "# Perform oversampling\n",
    "smote = SMOTE(random_state=42)\n",
    "X_resampled, y_resampled = smote.fit_resample(X, y)\n",
    "\n",
    "# Split the data into a training and a test set\n",
    "X_train, X_test, y_train, y_test = train_test_split(X_resampled, y_resampled, test_size=0.2, random_state=42)\n",
    "\n",
    "# Instantiate the RandomForestClassifier\n",
    "main_model = RandomForestClassifier(random_state=42)\n",
    "\n",
    "# Train the model\n",
    "main_model.fit(X_train, y_train)\n",
    "\n",
    "# Predict the labels of the test set\n",
    "y_pred = main_model.predict(X_test)\n",
    "\n",
    "# Print the accuracy\n",
    "print(\"Accuracy:\", accuracy_score(y_test, y_pred))\n",
    "\n",
    "# Print the classification report\n",
    "print(\"Classification Report:\\n\", classification_report(y_test, y_pred))\n"
   ]
  },
  {
   "cell_type": "code",
   "execution_count": 55,
   "id": "d4840d24",
   "metadata": {},
   "outputs": [
    {
     "data": {
      "image/png": "[encoded data removed]",
      "text/plain": [
       "<Figure size 1152x648 with 1 Axes>"
      ]
     },
     "metadata": {
      "needs_background": "light"
     },
     "output_type": "display_data"
    }
   ],
   "source": [
    "# Get feature importances\n",
    "importances = main_model.feature_importances_\n",
    "\n",
    "# Convert the importances into one-dimensional 1darray with corresponding df column names as axis labels\n",
    "f_importances = pd.Series(importances, X.columns)\n",
    "\n",
    "# Sort the array in descending order of the importances\n",
    "f_importances.sort_values(ascending=False, inplace=True)\n",
    "\n",
    "# Make the bar Plot from f_importances \n",
    "f_importances.plot(x='Features', y='Importance', kind='bar', figsize=(16,9), rot=45 , color=\"Green\")\n",
    "\n",
    "# Show the plot\n",
    "plt.tight_layout()\n",
    "plt.show()\n"
   ]
  },
  {
   "cell_type": "markdown",
   "id": "1d08b4b5",
   "metadata": {},
   "source": [
    "# Ordinal Regression"
   ]
  },
  {
   "cell_type": "code",
   "execution_count": 56,
   "id": "96a9d14f",
   "metadata": {},
   "outputs": [
    {
     "name": "stdout",
     "output_type": "stream",
     "text": [
      "Accuracy: 0.5433070866141733\n",
      "Classification Report:\n",
      "               precision    recall  f1-score   support\n",
      "\n",
      "           1       1.00      1.00      1.00         6\n",
      "           2       0.35      0.12      0.18        49\n",
      "           3       0.49      0.75      0.59        91\n",
      "           4       0.62      0.70      0.66        83\n",
      "           5       0.00      0.00      0.00        25\n",
      "\n",
      "    accuracy                           0.54       254\n",
      "   macro avg       0.49      0.51      0.49       254\n",
      "weighted avg       0.47      0.54      0.49       254\n",
      "\n"
     ]
    },
    {
     "name": "stderr",
     "output_type": "stream",
     "text": [
      "C:\\Users\\deonj\\anaconda3\\envs\\PythonStuff\\lib\\site-packages\\sklearn\\metrics\\_classification.py:1318: UndefinedMetricWarning: Precision and F-score are ill-defined and being set to 0.0 in labels with no predicted samples. Use `zero_division` parameter to control this behavior.\n",
      "  _warn_prf(average, modifier, msg_start, len(result))\n",
      "C:\\Users\\deonj\\anaconda3\\envs\\PythonStuff\\lib\\site-packages\\sklearn\\metrics\\_classification.py:1318: UndefinedMetricWarning: Precision and F-score are ill-defined and being set to 0.0 in labels with no predicted samples. Use `zero_division` parameter to control this behavior.\n",
      "  _warn_prf(average, modifier, msg_start, len(result))\n",
      "C:\\Users\\deonj\\anaconda3\\envs\\PythonStuff\\lib\\site-packages\\sklearn\\metrics\\_classification.py:1318: UndefinedMetricWarning: Precision and F-score are ill-defined and being set to 0.0 in labels with no predicted samples. Use `zero_division` parameter to control this behavior.\n",
      "  _warn_prf(average, modifier, msg_start, len(result))\n"
     ]
    }
   ],
   "source": [
    "import mord\n",
    "\n",
    "# Separate the y variable, the labels\n",
    "y = df_modified[\"KTAS_expert\"]\n",
    "\n",
    "# Separate the X variable, the features\n",
    "X = df_modified.drop(columns=\"KTAS_expert\")\n",
    "X = pd.get_dummies(X)\n",
    "\n",
    "# Split the data into a training and a test set\n",
    "X_train, X_test, y_train, y_test = train_test_split(X, y, test_size=0.2, random_state=42)\n",
    "\n",
    "# Instantiate the LogisticAT model (an ordinal regression model)\n",
    "model = mord.LogisticAT()\n",
    "\n",
    "# Train the model\n",
    "model.fit(X_train, y_train)\n",
    "\n",
    "# Predict the labels of the test set\n",
    "y_pred = model.predict(X_test)\n",
    "\n",
    "# Print the accuracy\n",
    "\n",
    "print(\"Accuracy:\", accuracy_score(y_test, y_pred))\n",
    "print(\"Classification Report:\\n\", classification_report(y_test, y_pred))\n"
   ]
  },
  {
   "cell_type": "markdown",
   "id": "e9fd6e1b",
   "metadata": {},
   "source": [
    "# Ordinal Regression + Over Sampling"
   ]
  },
  {
   "cell_type": "code",
   "execution_count": 57,
   "id": "b4e744a8",
   "metadata": {},
   "outputs": [
    {
     "name": "stdout",
     "output_type": "stream",
     "text": [
      "Accuracy: 0.4620123203285421\n",
      "Classification Report:\n",
      "               precision    recall  f1-score   support\n",
      "\n",
      "           1       0.94      0.93      0.93        85\n",
      "           2       0.58      0.33      0.42       113\n",
      "           3       0.41      0.42      0.42        99\n",
      "           4       0.27      0.55      0.36       101\n",
      "           5       0.37      0.12      0.18        89\n",
      "\n",
      "    accuracy                           0.46       487\n",
      "   macro avg       0.51      0.47      0.46       487\n",
      "weighted avg       0.51      0.46      0.45       487\n",
      "\n"
     ]
    }
   ],
   "source": [
    "# Separate the y variable, the labels\n",
    "y = df_modified[\"KTAS_expert\"]\n",
    "\n",
    "# Separate the X variable, the features\n",
    "X = df_modified.drop(columns=\"KTAS_expert\")\n",
    "X = pd.get_dummies(X)\n",
    "\n",
    "# Perform oversampling\n",
    "smote = SMOTE(random_state=42)\n",
    "X_resampled, y_resampled = smote.fit_resample(X, y)\n",
    "# Perform oversampling\n",
    "smote = SMOTE(random_state=42)\n",
    "X_resampled, y_resampled = smote.fit_resample(X, y)\n",
    "\n",
    "# Split the data into a training and a test set\n",
    "X_train, X_test, y_train, y_test = train_test_split(X_resampled, y_resampled, test_size=0.2, random_state=42)\n",
    "\n",
    "# Instantiate the LogisticAT model (an ordinal regression model)\n",
    "model = mord.LogisticAT()\n",
    "\n",
    "# Train the model\n",
    "model.fit(X_train, y_train)\n",
    "\n",
    "# Predict the labels of the test set\n",
    "y_pred = model.predict(X_test)\n",
    "\n",
    "# Print the accuracy\n",
    "print(\"Accuracy:\", accuracy_score(y_test, y_pred))\n",
    "print(\"Classification Report:\\n\", classification_report(y_test, y_pred))\n"
   ]
  },
  {
   "cell_type": "markdown",
   "id": "d52fdb5a",
   "metadata": {},
   "source": [
    "# KNN + Oversampling"
   ]
  },
  {
   "cell_type": "code",
   "execution_count": 58,
   "id": "1230cc9b",
   "metadata": {},
   "outputs": [
    {
     "name": "stdout",
     "output_type": "stream",
     "text": [
      "Accuracy: 0.7207392197125256\n",
      "Classification Report:\n",
      "               precision    recall  f1-score   support\n",
      "\n",
      "           1       0.98      1.00      0.99        85\n",
      "           2       0.71      0.75      0.73       113\n",
      "           3       0.65      0.46      0.54        99\n",
      "           4       0.68      0.48      0.56       101\n",
      "           5       0.63      0.98      0.76        89\n",
      "\n",
      "    accuracy                           0.72       487\n",
      "   macro avg       0.73      0.73      0.72       487\n",
      "weighted avg       0.72      0.72      0.71       487\n",
      "\n"
     ]
    }
   ],
   "source": [
    "from sklearn.neighbors import KNeighborsClassifier\n",
    "\n",
    "# Separate the y variable, the labels\n",
    "y = df_modified[\"KTAS_expert\"]\n",
    "\n",
    "# Separate the X variable, the features\n",
    "X = df_modified.drop(columns=\"KTAS_expert\")\n",
    "X = pd.get_dummies(X)\n",
    "\n",
    "# Perform oversampling\n",
    "smote = SMOTE(random_state=42)\n",
    "X_resampled, y_resampled = smote.fit_resample(X, y)\n",
    "\n",
    "# Split the data into a training and a test set\n",
    "X_train, X_test, y_train, y_test = train_test_split(X_resampled, y_resampled, test_size=0.2, random_state=42)\n",
    "\n",
    "# Instantiate the KNeighborsClassifier\n",
    "model = KNeighborsClassifier()\n",
    "\n",
    "# Train the model\n",
    "model.fit(X_train, y_train)\n",
    "\n",
    "# Predict the labels of the test set\n",
    "y_pred = model.predict(X_test)\n",
    "\n",
    "# Print the accuracy\n",
    "print(\"Accuracy:\", accuracy_score(y_test, y_pred))\n",
    "\n",
    "# Print the classification report\n",
    "print(\"Classification Report:\\n\", classification_report(y_test, y_pred))\n"
   ]
  },
  {
   "cell_type": "markdown",
   "id": "cb0460ad",
   "metadata": {},
   "source": [
    "# SVC + Over Sampling"
   ]
  },
  {
   "cell_type": "code",
   "execution_count": 59,
   "id": "23a0769a",
   "metadata": {},
   "outputs": [
    {
     "name": "stdout",
     "output_type": "stream",
     "text": [
      "Accuracy: 0.24229979466119098\n",
      "Classification Report:\n",
      "               precision    recall  f1-score   support\n",
      "\n",
      "           1       1.00      0.01      0.02        85\n",
      "           2       0.46      0.23      0.31       113\n",
      "           3       0.50      0.02      0.04        99\n",
      "           4       0.00      0.00      0.00       101\n",
      "           5       0.21      1.00      0.35        89\n",
      "\n",
      "    accuracy                           0.24       487\n",
      "   macro avg       0.43      0.25      0.14       487\n",
      "weighted avg       0.42      0.24      0.15       487\n",
      "\n"
     ]
    },
    {
     "name": "stderr",
     "output_type": "stream",
     "text": [
      "C:\\Users\\deonj\\anaconda3\\envs\\PythonStuff\\lib\\site-packages\\sklearn\\metrics\\_classification.py:1318: UndefinedMetricWarning: Precision and F-score are ill-defined and being set to 0.0 in labels with no predicted samples. Use `zero_division` parameter to control this behavior.\n",
      "  _warn_prf(average, modifier, msg_start, len(result))\n",
      "C:\\Users\\deonj\\anaconda3\\envs\\PythonStuff\\lib\\site-packages\\sklearn\\metrics\\_classification.py:1318: UndefinedMetricWarning: Precision and F-score are ill-defined and being set to 0.0 in labels with no predicted samples. Use `zero_division` parameter to control this behavior.\n",
      "  _warn_prf(average, modifier, msg_start, len(result))\n",
      "C:\\Users\\deonj\\anaconda3\\envs\\PythonStuff\\lib\\site-packages\\sklearn\\metrics\\_classification.py:1318: UndefinedMetricWarning: Precision and F-score are ill-defined and being set to 0.0 in labels with no predicted samples. Use `zero_division` parameter to control this behavior.\n",
      "  _warn_prf(average, modifier, msg_start, len(result))\n"
     ]
    }
   ],
   "source": [
    "from sklearn.svm import SVC\n",
    "\n",
    "# Separate the y variable, the labels\n",
    "y = df[\"KTAS_expert\"]\n",
    "\n",
    "# Separate the X variable, the features\n",
    "X = df.drop(columns=\"KTAS_expert\")\n",
    "X = pd.get_dummies(X)\n",
    "\n",
    "# Perform oversampling\n",
    "smote = SMOTE(random_state=42)\n",
    "X_resampled, y_resampled = smote.fit_resample(X, y)\n",
    "\n",
    "# Split the data into a training and a test set\n",
    "X_train, X_test, y_train, y_test = train_test_split(X_resampled, y_resampled, test_size=0.2, random_state=42)\n",
    "\n",
    "# Instantiate the SVC\n",
    "model = SVC()\n",
    "\n",
    "# Train the model\n",
    "model.fit(X_train, y_train)\n",
    "\n",
    "# Predict the labels of the test set\n",
    "y_pred = model.predict(X_test)\n",
    "\n",
    "# Print the accuracy\n",
    "print(\"Accuracy:\", accuracy_score(y_test, y_pred))\n",
    "\n",
    "# Print the classification report\n",
    "print(\"Classification Report:\\n\", classification_report(y_test, y_pred))\n"
   ]
  },
  {
   "cell_type": "code",
   "execution_count": 60,
   "id": "3682698b",
   "metadata": {},
   "outputs": [
    {
     "data": {
      "text/plain": [
       "['model.joblib']"
      ]
     },
     "execution_count": 60,
     "metadata": {},
     "output_type": "execute_result"
    }
   ],
   "source": [
    "from joblib import dump\n",
    "dump(main_model, 'model.joblib')"
   ]
  },
  {
   "cell_type": "code",
   "execution_count": null,
   "id": "37786da4",
   "metadata": {},
   "outputs": [],
   "source": []
  },
  {
   "cell_type": "code",
   "execution_count": null,
   "id": "6e99c05c",
   "metadata": {},
   "outputs": [],
   "source": []
  }
 ],
 "metadata": {
  "kernelspec": {
   "display_name": "Python 3 (ipykernel)",
   "language": "python",
   "name": "python3"
  },
  "language_info": {
   "codemirror_mode": {
    "name": "ipython",
    "version": 3
   },
   "file_extension": ".py",
   "mimetype": "text/x-python",
   "name": "python",
   "nbconvert_exporter": "python",
   "pygments_lexer": "ipython3",
   "version": "3.7.7"
  }
 },
 "nbformat": 4,
 "nbformat_minor": 5
}
