{
 "cells": [
  {
   "cell_type": "code",
   "execution_count": 1,
   "id": "2522f73a",
   "metadata": {},
   "outputs": [
    {
     "data": {
      "text/html": [
       "<div>\n",
       "<style scoped>\n",
       "    .dataframe tbody tr th:only-of-type {\n",
       "        vertical-align: middle;\n",
       "    }\n",
       "\n",
       "    .dataframe tbody tr th {\n",
       "        vertical-align: top;\n",
       "    }\n",
       "\n",
       "    .dataframe thead th {\n",
       "        text-align: right;\n",
       "    }\n",
       "</style>\n",
       "<table border=\"1\" class=\"dataframe\">\n",
       "  <thead>\n",
       "    <tr style=\"text-align: right;\">\n",
       "      <th></th>\n",
       "      <th>Group</th>\n",
       "      <th>Sex</th>\n",
       "      <th>Age</th>\n",
       "      <th>Patients number per hour</th>\n",
       "      <th>Arrival mode</th>\n",
       "      <th>Injury</th>\n",
       "      <th>Chief_complain</th>\n",
       "      <th>Mental</th>\n",
       "      <th>Pain</th>\n",
       "      <th>NRS_pain</th>\n",
       "      <th>...</th>\n",
       "      <th>BT</th>\n",
       "      <th>Saturation</th>\n",
       "      <th>KTAS_RN</th>\n",
       "      <th>Diagnosis in ED</th>\n",
       "      <th>Disposition</th>\n",
       "      <th>KTAS_expert</th>\n",
       "      <th>Error_group</th>\n",
       "      <th>Length of stay_min</th>\n",
       "      <th>KTAS duration_min</th>\n",
       "      <th>mistriage</th>\n",
       "    </tr>\n",
       "  </thead>\n",
       "  <tbody>\n",
       "    <tr>\n",
       "      <th>0</th>\n",
       "      <td>2</td>\n",
       "      <td>2</td>\n",
       "      <td>71</td>\n",
       "      <td>3</td>\n",
       "      <td>3</td>\n",
       "      <td>2</td>\n",
       "      <td>right ocular pain</td>\n",
       "      <td>1</td>\n",
       "      <td>1</td>\n",
       "      <td>2</td>\n",
       "      <td>...</td>\n",
       "      <td>36.6</td>\n",
       "      <td>100</td>\n",
       "      <td>2</td>\n",
       "      <td>Corneal abrasion</td>\n",
       "      <td>1</td>\n",
       "      <td>4</td>\n",
       "      <td>2</td>\n",
       "      <td>86</td>\n",
       "      <td>5,00</td>\n",
       "      <td>1</td>\n",
       "    </tr>\n",
       "    <tr>\n",
       "      <th>1</th>\n",
       "      <td>1</td>\n",
       "      <td>1</td>\n",
       "      <td>56</td>\n",
       "      <td>12</td>\n",
       "      <td>3</td>\n",
       "      <td>2</td>\n",
       "      <td>right forearm burn</td>\n",
       "      <td>1</td>\n",
       "      <td>1</td>\n",
       "      <td>2</td>\n",
       "      <td>...</td>\n",
       "      <td>36.5</td>\n",
       "      <td>NaN</td>\n",
       "      <td>4</td>\n",
       "      <td>Burn of hand, firts degree dorsum</td>\n",
       "      <td>1</td>\n",
       "      <td>5</td>\n",
       "      <td>4</td>\n",
       "      <td>64</td>\n",
       "      <td>3,95</td>\n",
       "      <td>1</td>\n",
       "    </tr>\n",
       "    <tr>\n",
       "      <th>2</th>\n",
       "      <td>2</td>\n",
       "      <td>1</td>\n",
       "      <td>68</td>\n",
       "      <td>8</td>\n",
       "      <td>2</td>\n",
       "      <td>2</td>\n",
       "      <td>arm pain, Lt</td>\n",
       "      <td>1</td>\n",
       "      <td>1</td>\n",
       "      <td>2</td>\n",
       "      <td>...</td>\n",
       "      <td>36.6</td>\n",
       "      <td>98</td>\n",
       "      <td>4</td>\n",
       "      <td>Fracture of surgical neck of humerus, closed</td>\n",
       "      <td>2</td>\n",
       "      <td>5</td>\n",
       "      <td>4</td>\n",
       "      <td>862</td>\n",
       "      <td>1,00</td>\n",
       "      <td>1</td>\n",
       "    </tr>\n",
       "    <tr>\n",
       "      <th>3</th>\n",
       "      <td>1</td>\n",
       "      <td>2</td>\n",
       "      <td>71</td>\n",
       "      <td>8</td>\n",
       "      <td>1</td>\n",
       "      <td>1</td>\n",
       "      <td>ascites tapping</td>\n",
       "      <td>1</td>\n",
       "      <td>1</td>\n",
       "      <td>3</td>\n",
       "      <td>...</td>\n",
       "      <td>36.5</td>\n",
       "      <td>NaN</td>\n",
       "      <td>4</td>\n",
       "      <td>Alcoholic liver cirrhosis with ascites</td>\n",
       "      <td>1</td>\n",
       "      <td>5</td>\n",
       "      <td>6</td>\n",
       "      <td>108</td>\n",
       "      <td>9,83</td>\n",
       "      <td>1</td>\n",
       "    </tr>\n",
       "    <tr>\n",
       "      <th>4</th>\n",
       "      <td>1</td>\n",
       "      <td>2</td>\n",
       "      <td>58</td>\n",
       "      <td>4</td>\n",
       "      <td>3</td>\n",
       "      <td>1</td>\n",
       "      <td>distension, abd</td>\n",
       "      <td>1</td>\n",
       "      <td>1</td>\n",
       "      <td>3</td>\n",
       "      <td>...</td>\n",
       "      <td>36.5</td>\n",
       "      <td>NaN</td>\n",
       "      <td>4</td>\n",
       "      <td>Ascites</td>\n",
       "      <td>1</td>\n",
       "      <td>5</td>\n",
       "      <td>8</td>\n",
       "      <td>109</td>\n",
       "      <td>6,60</td>\n",
       "      <td>1</td>\n",
       "    </tr>\n",
       "  </tbody>\n",
       "</table>\n",
       "<p>5 rows × 24 columns</p>\n",
       "</div>"
      ],
      "text/plain": [
       "   Group  Sex  Age  Patients number per hour  Arrival mode  Injury  \\\n",
       "0      2    2   71                         3             3       2   \n",
       "1      1    1   56                        12             3       2   \n",
       "2      2    1   68                         8             2       2   \n",
       "3      1    2   71                         8             1       1   \n",
       "4      1    2   58                         4             3       1   \n",
       "\n",
       "       Chief_complain  Mental  Pain NRS_pain  ...    BT Saturation KTAS_RN  \\\n",
       "0   right ocular pain       1     1        2  ...  36.6        100       2   \n",
       "1  right forearm burn       1     1        2  ...  36.5        NaN       4   \n",
       "2        arm pain, Lt       1     1        2  ...  36.6         98       4   \n",
       "3     ascites tapping       1     1        3  ...  36.5        NaN       4   \n",
       "4     distension, abd       1     1        3  ...  36.5        NaN       4   \n",
       "\n",
       "                                Diagnosis in ED Disposition KTAS_expert  \\\n",
       "0                              Corneal abrasion           1           4   \n",
       "1             Burn of hand, firts degree dorsum           1           5   \n",
       "2  Fracture of surgical neck of humerus, closed           2           5   \n",
       "3        Alcoholic liver cirrhosis with ascites           1           5   \n",
       "4                                       Ascites           1           5   \n",
       "\n",
       "   Error_group Length of stay_min  KTAS duration_min  mistriage  \n",
       "0            2                 86               5,00          1  \n",
       "1            4                 64               3,95          1  \n",
       "2            4                862               1,00          1  \n",
       "3            6                108               9,83          1  \n",
       "4            8                109               6,60          1  \n",
       "\n",
       "[5 rows x 24 columns]"
      ]
     },
     "execution_count": 1,
     "metadata": {},
     "output_type": "execute_result"
    }
   ],
   "source": [
    "import pandas as pd\n",
    "\n",
    "# Read data\n",
    "df = pd.read_csv(\"data.csv\", sep=\";\",encoding='ISO-8859-1', doublequote=False, skipinitialspace=True)\n",
    "\n",
    "# Display the first few rows of the DataFrame\n",
    "df.head()"
   ]
  },
  {
   "cell_type": "markdown",
   "id": "6adaab74",
   "metadata": {},
   "source": [
    "# Data Exploration"
   ]
  },
  {
   "cell_type": "code",
   "execution_count": 2,
   "id": "00d6f286",
   "metadata": {},
   "outputs": [
    {
     "data": {
      "text/plain": [
       "(1267, 24)"
      ]
     },
     "execution_count": 2,
     "metadata": {},
     "output_type": "execute_result"
    }
   ],
   "source": [
    "df.shape"
   ]
  },
  {
   "cell_type": "code",
   "execution_count": 3,
   "id": "a3f4309f",
   "metadata": {},
   "outputs": [
    {
     "data": {
      "text/plain": [
       "Index(['Group', 'Sex', 'Age', 'Patients number per hour', 'Arrival mode',\n",
       "       'Injury', 'Chief_complain', 'Mental', 'Pain', 'NRS_pain', 'SBP', 'DBP',\n",
       "       'HR', 'RR', 'BT', 'Saturation', 'KTAS_RN', 'Diagnosis in ED',\n",
       "       'Disposition', 'KTAS_expert', 'Error_group', 'Length of stay_min',\n",
       "       'KTAS duration_min', 'mistriage'],\n",
       "      dtype='object')"
      ]
     },
     "execution_count": 3,
     "metadata": {},
     "output_type": "execute_result"
    }
   ],
   "source": [
    "df.columns"
   ]
  },
  {
   "cell_type": "code",
   "execution_count": 4,
   "id": "415dae2b",
   "metadata": {},
   "outputs": [
    {
     "name": "stdout",
     "output_type": "stream",
     "text": [
      "<class 'pandas.core.frame.DataFrame'>\n",
      "RangeIndex: 1267 entries, 0 to 1266\n",
      "Data columns (total 24 columns):\n",
      " #   Column                    Non-Null Count  Dtype \n",
      "---  ------                    --------------  ----- \n",
      " 0   Group                     1267 non-null   int64 \n",
      " 1   Sex                       1267 non-null   int64 \n",
      " 2   Age                       1267 non-null   int64 \n",
      " 3   Patients number per hour  1267 non-null   int64 \n",
      " 4   Arrival mode              1267 non-null   int64 \n",
      " 5   Injury                    1267 non-null   int64 \n",
      " 6   Chief_complain            1267 non-null   object\n",
      " 7   Mental                    1267 non-null   int64 \n",
      " 8   Pain                      1267 non-null   int64 \n",
      " 9   NRS_pain                  1267 non-null   object\n",
      " 10  SBP                       1267 non-null   object\n",
      " 11  DBP                       1267 non-null   object\n",
      " 12  HR                        1267 non-null   object\n",
      " 13  RR                        1267 non-null   object\n",
      " 14  BT                        1267 non-null   object\n",
      " 15  Saturation                579 non-null    object\n",
      " 16  KTAS_RN                   1267 non-null   int64 \n",
      " 17  Diagnosis in ED           1265 non-null   object\n",
      " 18  Disposition               1267 non-null   int64 \n",
      " 19  KTAS_expert               1267 non-null   int64 \n",
      " 20  Error_group               1267 non-null   int64 \n",
      " 21  Length of stay_min        1267 non-null   int64 \n",
      " 22  KTAS duration_min         1267 non-null   object\n",
      " 23  mistriage                 1267 non-null   int64 \n",
      "dtypes: int64(14), object(10)\n",
      "memory usage: 237.7+ KB\n"
     ]
    }
   ],
   "source": [
    "df.info()"
   ]
  },
  {
   "cell_type": "code",
   "execution_count": 6,
   "id": "45e1e79e",
   "metadata": {},
   "outputs": [
    {
     "data": {
      "text/plain": [
       "True"
      ]
     },
     "execution_count": 6,
     "metadata": {},
     "output_type": "execute_result"
    }
   ],
   "source": [
    "df.isnull().values.any()"
   ]
  },
  {
   "cell_type": "code",
   "execution_count": 7,
   "id": "2a7ce010",
   "metadata": {},
   "outputs": [],
   "source": [
    "df_cleaned = df.dropna()\n"
   ]
  },
  {
   "cell_type": "code",
   "execution_count": 9,
   "id": "10b099ac",
   "metadata": {},
   "outputs": [
    {
     "data": {
      "text/plain": [
       "(577, 24)"
      ]
     },
     "execution_count": 9,
     "metadata": {},
     "output_type": "execute_result"
    }
   ],
   "source": [
    "df_cleaned.shape"
   ]
  },
  {
   "cell_type": "code",
   "execution_count": 11,
   "id": "867544cd",
   "metadata": {},
   "outputs": [
    {
     "name": "stdout",
     "output_type": "stream",
     "text": [
      "<class 'pandas.core.frame.DataFrame'>\n",
      "Int64Index: 577 entries, 0 to 1266\n",
      "Data columns (total 24 columns):\n",
      " #   Column                    Non-Null Count  Dtype \n",
      "---  ------                    --------------  ----- \n",
      " 0   Group                     577 non-null    int64 \n",
      " 1   Sex                       577 non-null    int64 \n",
      " 2   Age                       577 non-null    int64 \n",
      " 3   Patients number per hour  577 non-null    int64 \n",
      " 4   Arrival mode              577 non-null    int64 \n",
      " 5   Injury                    577 non-null    int64 \n",
      " 6   Chief_complain            577 non-null    object\n",
      " 7   Mental                    577 non-null    int64 \n",
      " 8   Pain                      577 non-null    int64 \n",
      " 9   NRS_pain                  577 non-null    object\n",
      " 10  SBP                       577 non-null    object\n",
      " 11  DBP                       577 non-null    object\n",
      " 12  HR                        577 non-null    object\n",
      " 13  RR                        577 non-null    object\n",
      " 14  BT                        577 non-null    object\n",
      " 15  Saturation                577 non-null    object\n",
      " 16  KTAS_RN                   577 non-null    int64 \n",
      " 17  Diagnosis in ED           577 non-null    object\n",
      " 18  Disposition               577 non-null    int64 \n",
      " 19  KTAS_expert               577 non-null    int64 \n",
      " 20  Error_group               577 non-null    int64 \n",
      " 21  Length of stay_min        577 non-null    int64 \n",
      " 22  KTAS duration_min         577 non-null    object\n",
      " 23  mistriage                 577 non-null    int64 \n",
      "dtypes: int64(14), object(10)\n",
      "memory usage: 112.7+ KB\n"
     ]
    }
   ],
   "source": [
    "df_cleaned.info()"
   ]
  },
  {
   "cell_type": "code",
   "execution_count": null,
   "id": "06e8fd05",
   "metadata": {},
   "outputs": [],
   "source": []
  }
 ],
 "metadata": {
  "kernelspec": {
   "display_name": "Python 3 (ipykernel)",
   "language": "python",
   "name": "python3"
  },
  "language_info": {
   "codemirror_mode": {
    "name": "ipython",
    "version": 3
   },
   "file_extension": ".py",
   "mimetype": "text/x-python",
   "name": "python",
   "nbconvert_exporter": "python",
   "pygments_lexer": "ipython3",
   "version": "3.7.7"
  }
 },
 "nbformat": 4,
 "nbformat_minor": 5
}
